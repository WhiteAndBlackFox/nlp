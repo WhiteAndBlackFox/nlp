{
  "nbformat": 4,
  "nbformat_minor": 0,
  "metadata": {
    "colab": {
      "name": "Lessons 2.ipynb",
      "provenance": [],
      "collapsed_sections": [],
      "toc_visible": true,
      "mount_file_id": "1MYhOMWTRWgty7cH8qj_KjrjoI6s0e9ZD",
      "authorship_tag": "ABX9TyMN35f9PNNsxS3MxwYXNX8c",
      "include_colab_link": true
    },
    "kernelspec": {
      "name": "python3",
      "display_name": "Python 3"
    },
    "language_info": {
      "name": "python"
    }
  },
  "cells": [
    {
      "cell_type": "markdown",
      "metadata": {
        "id": "view-in-github",
        "colab_type": "text"
      },
      "source": [
        "<a href=\"https://colab.research.google.com/github/WhiteAndBlackFox/nlp/blob/lessons2/Lessons_2.ipynb\" target=\"_parent\"><img src=\"https://colab.research.google.com/assets/colab-badge.svg\" alt=\"Open In Colab\"/></a>"
      ]
    },
    {
      "cell_type": "code",
      "metadata": {
        "colab": {
          "base_uri": "https://localhost:8080/"
        },
        "id": "BEy6QBH-cbuE",
        "outputId": "7c4ae323-ede9-4de1-96ce-b76ad3dc3e0a"
      },
      "source": [
        "import pandas as pd\n",
        "import numpy as np\n",
        "\n",
        "from sklearn import model_selection, preprocessing, linear_model\n",
        "from sklearn.decomposition import TruncatedSVD\n",
        "from sklearn.feature_extraction.text import CountVectorizer\n",
        "from sklearn.feature_extraction.text import TfidfVectorizer\n",
        "from sklearn.metrics import accuracy_score\n",
        "\n",
        "import pickle\n",
        "\n",
        "from google.colab import drive \n",
        "drive.mount('/content/gdrive')"
      ],
      "execution_count": 186,
      "outputs": [
        {
          "output_type": "stream",
          "name": "stdout",
          "text": [
            "Drive already mounted at /content/gdrive; to attempt to forcibly remount, call drive.mount(\"/content/gdrive\", force_remount=True).\n"
          ]
        }
      ]
    },
    {
      "cell_type": "markdown",
      "metadata": {
        "id": "PBlSDhWOcZfF"
      },
      "source": [
        "# Урок 2. Создание признакового пространства"
      ]
    },
    {
      "cell_type": "code",
      "metadata": {
        "id": "xxxuqLHgQcIy"
      },
      "source": [
        "vectors = {\n",
        "    'train': { 'count': None, 'tf': None },\n",
        "    'test': { 'count': None, 'tf': None }\n",
        "}\n",
        "result_check = {\n",
        "    \"vector\": [],\n",
        "    \"score\": []\n",
        "}"
      ],
      "execution_count": 168,
      "outputs": []
    },
    {
      "cell_type": "markdown",
      "metadata": {
        "id": "QwQEpF-04fDZ"
      },
      "source": [
        "### Созданные функции"
      ]
    },
    {
      "cell_type": "code",
      "metadata": {
        "id": "XWui_G26CbjV"
      },
      "source": [
        "#@title Загружаем ранее подготовленные данные\n",
        "def load_df(path_to_df):\n",
        "  load_df = None\n",
        "  with open(path_to_df, 'rb') as dump_df:\n",
        "    load_df = pickle.load(dump_df)\n",
        "  return load_df\n"
      ],
      "execution_count": 1,
      "outputs": []
    },
    {
      "cell_type": "code",
      "metadata": {
        "id": "RP0HCjom54j5"
      },
      "source": [
        "def print_data(comment, data):\n",
        "  print('-' * 40)\n",
        "  print(comment)\n",
        "  print('-' * 40)\n",
        "  print(data)\n",
        "  print('-' * 40)"
      ],
      "execution_count": 9,
      "outputs": []
    },
    {
      "cell_type": "code",
      "metadata": {
        "id": "jmrp2LRF5OVa"
      },
      "source": [
        "#@title Создание мешка\n",
        "def create_bag(df, type_bag=None, count_print=5):\n",
        "  for col in ['clean_tweet_token_stemmed', 'clean_tweet_token_lemmed']:\n",
        "    df[col + \"_str\"] = df[col].apply(lambda txt: ' '.join(txt))\n",
        "\n",
        "  if (type_bag == 'CountVectorized'):\n",
        "    vector_stemmed = CountVectorizer(\n",
        "        stop_words='english',\n",
        "        max_df=0.9,\n",
        "        max_features=1000\n",
        "    )\n",
        "\n",
        "    vector_lemmed = CountVectorizer(\n",
        "        stop_words='english',\n",
        "        max_df=0.9,\n",
        "        max_features=1000\n",
        "    )\n",
        "  elif (type_bag == 'tf-idf'):\n",
        "    vector_stemmed = TfidfVectorizer(\n",
        "        stop_words='english',\n",
        "        max_df=0.9,\n",
        "        max_features=1000\n",
        "    )\n",
        "\n",
        "    vector_lemmed = TfidfVectorizer(\n",
        "        stop_words='english',\n",
        "        max_df=0.9,\n",
        "        max_features=1000\n",
        "    )\n",
        "  else:\n",
        "    return None\n",
        "\n",
        "  print(\"Selected type bag: \" + type_bag)\n",
        "\n",
        "  # stemmed\n",
        "\n",
        "  bag_stemmed = vector_stemmed.fit_transform(df['clean_tweet_token_stemmed_str'])\n",
        "  names_bag_stemmed = vector_stemmed.get_feature_names_out()\n",
        "\n",
        "  bag_stemmed_df = pd.DataFrame(bag_stemmed.toarray(), columns=names_bag_stemmed)\n",
        "  print_data(\"Bag-of-Words from data stemmed\", bag_stemmed_df.head(count_print))\n",
        "\n",
        "  # lemmed\n",
        "\n",
        "  bag_lemmed = vector_lemmed.fit_transform(df['clean_tweet_token_lemmed_str'])\n",
        "  names_bag_lemmed = vector_lemmed.get_feature_names_out()\n",
        "\n",
        "  bag_lemmed_df = pd.DataFrame(bag_lemmed.toarray(), columns=names_bag_lemmed)\n",
        "  print_data(\"Bag-of-Words from data lemmed\", bag_lemmed_df.head(count_print))\n",
        "  \n",
        "  return [vector_stemmed, vector_lemmed]"
      ],
      "execution_count": 144,
      "outputs": []
    },
    {
      "cell_type": "code",
      "metadata": {
        "id": "BKkfsh7N4eMK"
      },
      "source": [
        "#@title Сбор мешков\n",
        "def run_lessons_2(df):\n",
        "  count_vector = create_bag(df, 'CountVectorized')\n",
        "  tf_vector = create_bag(df, 'tf-idf')\n",
        "  return [count_vector, tf_vector]"
      ],
      "execution_count": 82,
      "outputs": []
    },
    {
      "cell_type": "code",
      "metadata": {
        "id": "LmBg9jSQSKf6"
      },
      "source": [
        "#@title Проверка векторов\n",
        "def check_vector(vector, df, trains):\n",
        "  vector.fit(df['text'])\n",
        "  train_transform = vector.transform(trains['train_x'])\n",
        "  valid_transform = vector.transform(trains['valid_x'])\n",
        "\n",
        "  classifier = linear_model.LogisticRegression(max_iter=10000)\n",
        "  classifier.fit(train_transform, trains['train_y'])\n",
        "  predict = classifier.predict(valid_transform)\n",
        "  return accuracy_score(trains['valid_y'], predict)"
      ],
      "execution_count": 100,
      "outputs": []
    },
    {
      "cell_type": "markdown",
      "metadata": {
        "id": "Rl9OHaMV4luJ"
      },
      "source": [
        "### Загрузка данных и выполнение"
      ]
    },
    {
      "cell_type": "code",
      "metadata": {
        "id": "Tda-QMP536SK"
      },
      "source": [
        "#@title Загружаем тренеровочные данные\n",
        "train_df = load_df('gdrive/MyDrive/Colab Notebooks/nlp/Lessons 2 - Feature Space Creation/train_df.pkl')"
      ],
      "execution_count": 83,
      "outputs": []
    },
    {
      "cell_type": "code",
      "metadata": {
        "id": "q__ugCltJSkT"
      },
      "source": [
        "#@title Загружаем тестовые данные\n",
        "test_df = load_df('gdrive/MyDrive/Colab Notebooks/nlp/Lessons 2 - Feature Space Creation/test_df.pkl')"
      ],
      "execution_count": 86,
      "outputs": []
    },
    {
      "cell_type": "code",
      "metadata": {
        "colab": {
          "base_uri": "https://localhost:8080/"
        },
        "id": "DQrqhU1B65tq",
        "outputId": "df4c3c07-af97-4ca4-ae36-6e07ecbdf56a"
      },
      "source": [
        "#@title Запускаем на тренеровочных данных\n",
        "[ vectors['train']['count'], vectors['train']['tf'] ] = run_lessons_2(train_df)"
      ],
      "execution_count": 169,
      "outputs": [
        {
          "output_type": "stream",
          "name": "stdout",
          "text": [
            "Selected type bag: CountVectorized\n",
            "----------------------------------------\n",
            "Bag-of-Words from data stemmed\n",
            "----------------------------------------\n",
            "   abl  absolut  accept  account  act  ...  youth  youtub  yoyou  yoyoy  yr\n",
            "0    0        0       0        0    0  ...      0       0      0      0   0\n",
            "1    0        0       0        0    0  ...      0       0      0      0   0\n",
            "2    0        0       0        0    0  ...      0       0      0      0   0\n",
            "3    0        0       0        0    0  ...      0       0      0      0   0\n",
            "4    0        0       0        0    0  ...      0       0      0      0   0\n",
            "\n",
            "[5 rows x 1000 columns]\n",
            "----------------------------------------\n",
            "----------------------------------------\n",
            "Bag-of-Words from data lemmed\n",
            "----------------------------------------\n",
            "   able  absolutely  accept  account  act  ...  youtube  yoyou  yoyoyou  yr  yrs\n",
            "0     0           0       0        0    0  ...        0      0        0   0    0\n",
            "1     0           0       0        0    0  ...        0      0        0   0    0\n",
            "2     0           0       0        0    0  ...        0      0        0   0    0\n",
            "3     0           0       0        0    0  ...        0      0        0   0    0\n",
            "4     0           0       0        0    0  ...        0      0        0   0    0\n",
            "\n",
            "[5 rows x 1000 columns]\n",
            "----------------------------------------\n",
            "Selected type bag: tf-idf\n",
            "----------------------------------------\n",
            "Bag-of-Words from data stemmed\n",
            "----------------------------------------\n",
            "   abl  absolut  accept  account  act  ...  youth  youtub  yoyou  yoyoy   yr\n",
            "0  0.0      0.0     0.0      0.0  0.0  ...    0.0     0.0    0.0    0.0  0.0\n",
            "1  0.0      0.0     0.0      0.0  0.0  ...    0.0     0.0    0.0    0.0  0.0\n",
            "2  0.0      0.0     0.0      0.0  0.0  ...    0.0     0.0    0.0    0.0  0.0\n",
            "3  0.0      0.0     0.0      0.0  0.0  ...    0.0     0.0    0.0    0.0  0.0\n",
            "4  0.0      0.0     0.0      0.0  0.0  ...    0.0     0.0    0.0    0.0  0.0\n",
            "\n",
            "[5 rows x 1000 columns]\n",
            "----------------------------------------\n",
            "----------------------------------------\n",
            "Bag-of-Words from data lemmed\n",
            "----------------------------------------\n",
            "   able  absolutely  accept  account  act  ...  youtube  yoyou  yoyoyou   yr  yrs\n",
            "0   0.0         0.0     0.0      0.0  0.0  ...      0.0    0.0      0.0  0.0  0.0\n",
            "1   0.0         0.0     0.0      0.0  0.0  ...      0.0    0.0      0.0  0.0  0.0\n",
            "2   0.0         0.0     0.0      0.0  0.0  ...      0.0    0.0      0.0  0.0  0.0\n",
            "3   0.0         0.0     0.0      0.0  0.0  ...      0.0    0.0      0.0  0.0  0.0\n",
            "4   0.0         0.0     0.0      0.0  0.0  ...      0.0    0.0      0.0  0.0  0.0\n",
            "\n",
            "[5 rows x 1000 columns]\n",
            "----------------------------------------\n"
          ]
        }
      ]
    },
    {
      "cell_type": "code",
      "metadata": {
        "colab": {
          "base_uri": "https://localhost:8080/"
        },
        "id": "90JDmOmdFKyi",
        "outputId": "6d8c02be-bbd2-4bb2-eefb-e15def6c4612"
      },
      "source": [
        "#@title Запускаем на тестовых данных\n",
        "[ vectors['test']['count'], vectors['test']['tf'] ] = run_lessons_2(test_df)"
      ],
      "execution_count": 170,
      "outputs": [
        {
          "output_type": "stream",
          "name": "stdout",
          "text": [
            "Selected type bag: CountVectorized\n",
            "----------------------------------------\n",
            "Bag-of-Words from data stemmed\n",
            "----------------------------------------\n",
            "   abl  absolut  abt  abus  accept  ...  young  youtub  yoyou  yoyoy  yr\n",
            "0    0        0    0     0       0  ...      0       0      0      0   0\n",
            "1    0        0    0     0       0  ...      0       0      0      0   0\n",
            "2    0        0    0     0       0  ...      0       0      0      0   0\n",
            "3    0        0    0     0       0  ...      0       0      0      0   0\n",
            "4    0        0    0     0       0  ...      0       0      0      0   0\n",
            "\n",
            "[5 rows x 1000 columns]\n",
            "----------------------------------------\n",
            "----------------------------------------\n",
            "Bag-of-Words from data lemmed\n",
            "----------------------------------------\n",
            "   able  absolutely  abt  abuse  accept  ...  youtube  yoyou  yoyoyou  yr  yrs\n",
            "0     0           0    0      0       0  ...        0      0        0   0    0\n",
            "1     0           0    0      0       0  ...        0      0        0   0    0\n",
            "2     0           0    0      0       0  ...        0      0        0   0    0\n",
            "3     0           0    0      0       0  ...        0      0        0   0    0\n",
            "4     0           0    0      0       0  ...        0      0        0   0    0\n",
            "\n",
            "[5 rows x 1000 columns]\n",
            "----------------------------------------\n",
            "Selected type bag: tf-idf\n",
            "----------------------------------------\n",
            "Bag-of-Words from data stemmed\n",
            "----------------------------------------\n",
            "   abl  absolut  abt  abus  accept  ...  young  youtub  yoyou  yoyoy   yr\n",
            "0  0.0      0.0  0.0   0.0     0.0  ...    0.0     0.0    0.0    0.0  0.0\n",
            "1  0.0      0.0  0.0   0.0     0.0  ...    0.0     0.0    0.0    0.0  0.0\n",
            "2  0.0      0.0  0.0   0.0     0.0  ...    0.0     0.0    0.0    0.0  0.0\n",
            "3  0.0      0.0  0.0   0.0     0.0  ...    0.0     0.0    0.0    0.0  0.0\n",
            "4  0.0      0.0  0.0   0.0     0.0  ...    0.0     0.0    0.0    0.0  0.0\n",
            "\n",
            "[5 rows x 1000 columns]\n",
            "----------------------------------------\n",
            "----------------------------------------\n",
            "Bag-of-Words from data lemmed\n",
            "----------------------------------------\n",
            "   able  absolutely  abt  abuse  accept  ...  youtube  yoyou  yoyoyou   yr  yrs\n",
            "0   0.0         0.0  0.0    0.0     0.0  ...      0.0    0.0      0.0  0.0  0.0\n",
            "1   0.0         0.0  0.0    0.0     0.0  ...      0.0    0.0      0.0  0.0  0.0\n",
            "2   0.0         0.0  0.0    0.0     0.0  ...      0.0    0.0      0.0  0.0  0.0\n",
            "3   0.0         0.0  0.0    0.0     0.0  ...      0.0    0.0      0.0  0.0  0.0\n",
            "4   0.0         0.0  0.0    0.0     0.0  ...      0.0    0.0      0.0  0.0  0.0\n",
            "\n",
            "[5 rows x 1000 columns]\n",
            "----------------------------------------\n"
          ]
        }
      ]
    },
    {
      "cell_type": "markdown",
      "metadata": {
        "id": "z2KVCoOhItOL"
      },
      "source": [
        "### Проверка векторайзера"
      ]
    },
    {
      "cell_type": "code",
      "metadata": {
        "colab": {
          "base_uri": "https://localhost:8080/",
          "height": 359
        },
        "id": "NfnWhUZBItlq",
        "outputId": "12e88ebe-b261-4e0f-ad92-8b1c9e40aa51"
      },
      "source": [
        "#@title Загружаем данные и создаем DataFrame\n",
        "data = open('gdrive/MyDrive/Colab Notebooks/nlp/Lessons 2 - Feature Space Creation/corpus.txt').read()\n",
        "labels, text = [], []\n",
        "for idx, line in enumerate(data.split('\\n')):\n",
        "  cont = line.split()\n",
        "  labels.append(cont[0])\n",
        "  text.append(' '.join(cont[1:]))\n",
        "\n",
        "corp_df = pd.DataFrame()\n",
        "corp_df['text'] = text\n",
        "corp_df['labels'] = labels\n",
        "corp_df.head(10)"
      ],
      "execution_count": 78,
      "outputs": [
        {
          "output_type": "execute_result",
          "data": {
            "text/html": [
              "<div>\n",
              "<style scoped>\n",
              "    .dataframe tbody tr th:only-of-type {\n",
              "        vertical-align: middle;\n",
              "    }\n",
              "\n",
              "    .dataframe tbody tr th {\n",
              "        vertical-align: top;\n",
              "    }\n",
              "\n",
              "    .dataframe thead th {\n",
              "        text-align: right;\n",
              "    }\n",
              "</style>\n",
              "<table border=\"1\" class=\"dataframe\">\n",
              "  <thead>\n",
              "    <tr style=\"text-align: right;\">\n",
              "      <th></th>\n",
              "      <th>text</th>\n",
              "      <th>labels</th>\n",
              "    </tr>\n",
              "  </thead>\n",
              "  <tbody>\n",
              "    <tr>\n",
              "      <th>0</th>\n",
              "      <td>Stuning even for the non-gamer: This sound tra...</td>\n",
              "      <td>__label__2</td>\n",
              "    </tr>\n",
              "    <tr>\n",
              "      <th>1</th>\n",
              "      <td>The best soundtrack ever to anything.: I'm rea...</td>\n",
              "      <td>__label__2</td>\n",
              "    </tr>\n",
              "    <tr>\n",
              "      <th>2</th>\n",
              "      <td>Amazing!: This soundtrack is my favorite music...</td>\n",
              "      <td>__label__2</td>\n",
              "    </tr>\n",
              "    <tr>\n",
              "      <th>3</th>\n",
              "      <td>Excellent Soundtrack: I truly like this soundt...</td>\n",
              "      <td>__label__2</td>\n",
              "    </tr>\n",
              "    <tr>\n",
              "      <th>4</th>\n",
              "      <td>Remember, Pull Your Jaw Off The Floor After He...</td>\n",
              "      <td>__label__2</td>\n",
              "    </tr>\n",
              "    <tr>\n",
              "      <th>5</th>\n",
              "      <td>an absolute masterpiece: I am quite sure any o...</td>\n",
              "      <td>__label__2</td>\n",
              "    </tr>\n",
              "    <tr>\n",
              "      <th>6</th>\n",
              "      <td>Buyer beware: This is a self-published book, a...</td>\n",
              "      <td>__label__1</td>\n",
              "    </tr>\n",
              "    <tr>\n",
              "      <th>7</th>\n",
              "      <td>Glorious story: I loved Whisper of the wicked ...</td>\n",
              "      <td>__label__2</td>\n",
              "    </tr>\n",
              "    <tr>\n",
              "      <th>8</th>\n",
              "      <td>A FIVE STAR BOOK: I just finished reading Whis...</td>\n",
              "      <td>__label__2</td>\n",
              "    </tr>\n",
              "    <tr>\n",
              "      <th>9</th>\n",
              "      <td>Whispers of the Wicked Saints: This was a easy...</td>\n",
              "      <td>__label__2</td>\n",
              "    </tr>\n",
              "  </tbody>\n",
              "</table>\n",
              "</div>"
            ],
            "text/plain": [
              "                                                text      labels\n",
              "0  Stuning even for the non-gamer: This sound tra...  __label__2\n",
              "1  The best soundtrack ever to anything.: I'm rea...  __label__2\n",
              "2  Amazing!: This soundtrack is my favorite music...  __label__2\n",
              "3  Excellent Soundtrack: I truly like this soundt...  __label__2\n",
              "4  Remember, Pull Your Jaw Off The Floor After He...  __label__2\n",
              "5  an absolute masterpiece: I am quite sure any o...  __label__2\n",
              "6  Buyer beware: This is a self-published book, a...  __label__1\n",
              "7  Glorious story: I loved Whisper of the wicked ...  __label__2\n",
              "8  A FIVE STAR BOOK: I just finished reading Whis...  __label__2\n",
              "9  Whispers of the Wicked Saints: This was a easy...  __label__2"
            ]
          },
          "metadata": {},
          "execution_count": 78
        }
      ]
    },
    {
      "cell_type": "code",
      "metadata": {
        "id": "qdqLc8k2PkqS"
      },
      "source": [
        "#@title Разбиваем данные и подчищаем label\n",
        "train_x, valid_x, train_y, valid_y = model_selection.train_test_split(corp_df['text'], corp_df['labels'])\n",
        "\n",
        "encode = preprocessing.LabelEncoder()\n",
        "train_y = encode.fit_transform(train_y)\n",
        "valid_y = encode.fit_transform(valid_y)"
      ],
      "execution_count": 93,
      "outputs": []
    },
    {
      "cell_type": "code",
      "metadata": {
        "id": "phlgOh2fRyUr"
      },
      "source": [
        "#@title Используем уже ранее созданные вектор (CountVectorizer) на тренеровочных данных (stemmed)\n",
        "score = check_vector(vectors['train']['count'][0], corp_df, {'train_x': train_x, 'valid_x': valid_x, 'train_y': train_y, 'valid_y': valid_y})\n",
        "result_check['vector'].append(vectors['train']['count'][0])\n",
        "result_check['score'].append(score)"
      ],
      "execution_count": 171,
      "outputs": []
    },
    {
      "cell_type": "code",
      "metadata": {
        "id": "pzAxaO8YatVr"
      },
      "source": [
        "#@title Используем уже ранее созданные вектор (CountVectorizer) на тренеровочных данных (lemmed)\n",
        "score = check_vector(vectors['train']['count'][1], corp_df, {'train_x': train_x, 'valid_x': valid_x, 'train_y': train_y, 'valid_y': valid_y})\n",
        "result_check['vector'].append(vectors['train']['count'][1])\n",
        "result_check['score'].append(score)"
      ],
      "execution_count": 172,
      "outputs": []
    },
    {
      "cell_type": "code",
      "metadata": {
        "id": "Gs_sA3njWDnq"
      },
      "source": [
        "#@title Используем уже ранее созданные вектор (TfidfVectorizer) на тестовых данных (stemmed)\n",
        "score = check_vector(vectors['train']['tf'][0], corp_df, {'train_x': train_x, 'valid_x': valid_x, 'train_y': train_y, 'valid_y': valid_y})\n",
        "result_check['vector'].append(vectors['train']['tf'][0])\n",
        "result_check['score'].append(score)"
      ],
      "execution_count": 173,
      "outputs": []
    },
    {
      "cell_type": "code",
      "metadata": {
        "id": "9p0KsC_SbR8D"
      },
      "source": [
        "#@title Используем уже ранее созданные вектор (TfidfVectorizer) на тестовых данных (lemmed)\n",
        "score = check_vector(vectors['train']['tf'][1], corp_df, {'train_x': train_x, 'valid_x': valid_x, 'train_y': train_y, 'valid_y': valid_y})\n",
        "result_check['vector'].append(vectors['train']['tf'][1])\n",
        "result_check['score'].append(score)"
      ],
      "execution_count": 174,
      "outputs": []
    },
    {
      "cell_type": "code",
      "metadata": {
        "id": "PXKfLQEAW0QS"
      },
      "source": [
        "#@title Используем уже ранее созданные вектор (CountVectorizer) на тестовых данных (stemmed)\n",
        "score = check_vector(vectors['test']['count'][0], corp_df, {'train_x': train_x, 'valid_x': valid_x, 'train_y': train_y, 'valid_y': valid_y})\n",
        "result_check['vector'].append(vectors['train']['count'][0])\n",
        "result_check['score'].append(score)"
      ],
      "execution_count": 175,
      "outputs": []
    },
    {
      "cell_type": "code",
      "metadata": {
        "id": "QcKHHkFZdCmS"
      },
      "source": [
        "#@title Используем уже ранее созданные вектор (CountVectorizer) на тестовых данных (lemmed)\n",
        "score = check_vector(vectors['test']['count'][1], corp_df, {'train_x': train_x, 'valid_x': valid_x, 'train_y': train_y, 'valid_y': valid_y})\n",
        "result_check['vector'].append(vectors['train']['count'][1])\n",
        "result_check['score'].append(score)"
      ],
      "execution_count": 176,
      "outputs": []
    },
    {
      "cell_type": "code",
      "metadata": {
        "id": "O3H73LQQXgVa"
      },
      "source": [
        "#@title Используем уже ранее созданные вектор (TfidfVectorizer) на тестовых данных (stemmed)\n",
        "score = check_vector(vectors['test']['tf'][0], corp_df, {'train_x': train_x, 'valid_x': valid_x, 'train_y': train_y, 'valid_y': valid_y})\n",
        "result_check['vector'].append(vectors['train']['tf'][0])\n",
        "result_check['score'].append(score)"
      ],
      "execution_count": 177,
      "outputs": []
    },
    {
      "cell_type": "code",
      "metadata": {
        "id": "i-D9K6JhdI4D"
      },
      "source": [
        "#@title Используем уже ранее созданные вектор (TfidfVectorizer) на тестовых данных (lemmed)\n",
        "score = check_vector(vectors['test']['tf'][1], corp_df, {'train_x': train_x, 'valid_x': valid_x, 'train_y': train_y, 'valid_y': valid_y})\n",
        "result_check['vector'].append(vectors['train']['tf'][1])\n",
        "result_check['score'].append(score)"
      ],
      "execution_count": 178,
      "outputs": []
    },
    {
      "cell_type": "code",
      "metadata": {
        "id": "FV6GNR3VXyBa"
      },
      "source": [
        "#@title Создадим вектор с другими параметрами CountVectorizer\n",
        "vector_corp_count = CountVectorizer(analyzer='word', token_pattern=r'\\w{1,}')\n",
        "score = check_vector(vector_corp_count, corp_df, {'train_x': train_x, 'valid_x': valid_x, 'train_y': train_y, 'valid_y': valid_y})\n",
        "result_check['vector'].append(vector_corp_count)\n",
        "result_check['score'].append(score)"
      ],
      "execution_count": 179,
      "outputs": []
    },
    {
      "cell_type": "code",
      "metadata": {
        "id": "mHGIHkwDYgtL"
      },
      "source": [
        "#@title Создадим вектор с другими параметрами TfidfVectorizer\n",
        "vector_corp_tf = TfidfVectorizer(analyzer='word', token_pattern=r'\\w{1,}')\n",
        "score = check_vector(vector_corp_tf, corp_df, {'train_x': train_x, 'valid_x': valid_x, 'train_y': train_y, 'valid_y': valid_y})\n",
        "result_check['vector'].append(vector_corp_tf)\n",
        "result_check['score'].append(score)"
      ],
      "execution_count": 180,
      "outputs": []
    },
    {
      "cell_type": "code",
      "metadata": {
        "id": "5c29eRzBhsX8"
      },
      "source": [
        "#@title Создадим вектор с другими параметрами CountVectorizer\n",
        "vector_corp_count_mod = CountVectorizer(max_df=0.9, \n",
        "                                      max_features = 1000, \n",
        "                                      stop_words='english', \n",
        "                                      analyzer='word', \n",
        "                                      token_pattern=r'\\w{1,}')\n",
        "score = check_vector(vector_corp_count_mod, corp_df, {'train_x': train_x, 'valid_x': valid_x, 'train_y': train_y, 'valid_y': valid_y})\n",
        "result_check['vector'].append(vector_corp_count_mod)\n",
        "result_check['score'].append(score)"
      ],
      "execution_count": 183,
      "outputs": []
    },
    {
      "cell_type": "code",
      "metadata": {
        "id": "Fg744_qahsH9"
      },
      "source": [
        "#@title Создадим вектор с другими параметрами TfidfVectorizer \n",
        "vector_corp_tf_mod = TfidfVectorizer(max_df=0.9, \n",
        "                                      max_features = 1000, \n",
        "                                      stop_words='english', \n",
        "                                      analyzer='word', \n",
        "                                      token_pattern=r'\\w{1,}')\n",
        "score = check_vector(vector_corp_tf_mod, corp_df, {'train_x': train_x, 'valid_x': valid_x, 'train_y': train_y, 'valid_y': valid_y})\n",
        "result_check['vector'].append(vector_corp_tf_mod)\n",
        "result_check['score'].append(score)"
      ],
      "execution_count": 184,
      "outputs": []
    },
    {
      "cell_type": "code",
      "metadata": {
        "colab": {
          "base_uri": "https://localhost:8080/",
          "height": 421
        },
        "id": "aiRfF99mY9OD",
        "outputId": "b8105f00-7a48-43bf-fec2-17ba07c0c90a"
      },
      "source": [
        "check_df = pd.DataFrame(data=result_check)\n",
        "check_df.set_index('vector', inplace=False)\n",
        "check_df"
      ],
      "execution_count": 185,
      "outputs": [
        {
          "output_type": "execute_result",
          "data": {
            "text/html": [
              "<div>\n",
              "<style scoped>\n",
              "    .dataframe tbody tr th:only-of-type {\n",
              "        vertical-align: middle;\n",
              "    }\n",
              "\n",
              "    .dataframe tbody tr th {\n",
              "        vertical-align: top;\n",
              "    }\n",
              "\n",
              "    .dataframe thead th {\n",
              "        text-align: right;\n",
              "    }\n",
              "</style>\n",
              "<table border=\"1\" class=\"dataframe\">\n",
              "  <thead>\n",
              "    <tr style=\"text-align: right;\">\n",
              "      <th></th>\n",
              "      <th>vector</th>\n",
              "      <th>score</th>\n",
              "    </tr>\n",
              "  </thead>\n",
              "  <tbody>\n",
              "    <tr>\n",
              "      <th>0</th>\n",
              "      <td>CountVectorizer(max_df=0.9, max_features=1000,...</td>\n",
              "      <td>0.875613</td>\n",
              "    </tr>\n",
              "    <tr>\n",
              "      <th>1</th>\n",
              "      <td>CountVectorizer(max_df=0.9, max_features=1000,...</td>\n",
              "      <td>0.875613</td>\n",
              "    </tr>\n",
              "    <tr>\n",
              "      <th>2</th>\n",
              "      <td>TfidfVectorizer(max_df=0.9, max_features=1000,...</td>\n",
              "      <td>0.874858</td>\n",
              "    </tr>\n",
              "    <tr>\n",
              "      <th>3</th>\n",
              "      <td>TfidfVectorizer(max_df=0.9, max_features=1000,...</td>\n",
              "      <td>0.874858</td>\n",
              "    </tr>\n",
              "    <tr>\n",
              "      <th>4</th>\n",
              "      <td>CountVectorizer(max_df=0.9, max_features=1000,...</td>\n",
              "      <td>0.875613</td>\n",
              "    </tr>\n",
              "    <tr>\n",
              "      <th>5</th>\n",
              "      <td>CountVectorizer(max_df=0.9, max_features=1000,...</td>\n",
              "      <td>0.875613</td>\n",
              "    </tr>\n",
              "    <tr>\n",
              "      <th>6</th>\n",
              "      <td>TfidfVectorizer(max_df=0.9, max_features=1000,...</td>\n",
              "      <td>0.874858</td>\n",
              "    </tr>\n",
              "    <tr>\n",
              "      <th>7</th>\n",
              "      <td>TfidfVectorizer(max_df=0.9, max_features=1000,...</td>\n",
              "      <td>0.874858</td>\n",
              "    </tr>\n",
              "    <tr>\n",
              "      <th>8</th>\n",
              "      <td>CountVectorizer(token_pattern='\\\\w{1,}')</td>\n",
              "      <td>0.978860</td>\n",
              "    </tr>\n",
              "    <tr>\n",
              "      <th>9</th>\n",
              "      <td>TfidfVectorizer(token_pattern='\\\\w{1,}')</td>\n",
              "      <td>0.939977</td>\n",
              "    </tr>\n",
              "    <tr>\n",
              "      <th>10</th>\n",
              "      <td>CountVectorizer(max_df=0.9, max_features=1000,...</td>\n",
              "      <td>0.878633</td>\n",
              "    </tr>\n",
              "    <tr>\n",
              "      <th>11</th>\n",
              "      <td>TfidfVectorizer(max_df=0.9, max_features=1000,...</td>\n",
              "      <td>0.875047</td>\n",
              "    </tr>\n",
              "  </tbody>\n",
              "</table>\n",
              "</div>"
            ],
            "text/plain": [
              "                                               vector     score\n",
              "0   CountVectorizer(max_df=0.9, max_features=1000,...  0.875613\n",
              "1   CountVectorizer(max_df=0.9, max_features=1000,...  0.875613\n",
              "2   TfidfVectorizer(max_df=0.9, max_features=1000,...  0.874858\n",
              "3   TfidfVectorizer(max_df=0.9, max_features=1000,...  0.874858\n",
              "4   CountVectorizer(max_df=0.9, max_features=1000,...  0.875613\n",
              "5   CountVectorizer(max_df=0.9, max_features=1000,...  0.875613\n",
              "6   TfidfVectorizer(max_df=0.9, max_features=1000,...  0.874858\n",
              "7   TfidfVectorizer(max_df=0.9, max_features=1000,...  0.874858\n",
              "8            CountVectorizer(token_pattern='\\\\w{1,}')  0.978860\n",
              "9            TfidfVectorizer(token_pattern='\\\\w{1,}')  0.939977\n",
              "10  CountVectorizer(max_df=0.9, max_features=1000,...  0.878633\n",
              "11  TfidfVectorizer(max_df=0.9, max_features=1000,...  0.875047"
            ]
          },
          "metadata": {},
          "execution_count": 185
        }
      ]
    },
    {
      "cell_type": "markdown",
      "metadata": {
        "id": "cz9WnlU1e5vL"
      },
      "source": [
        "#### Вывод проверки: \n",
        "\n",
        "*   Лучшие значения у вектора TfidfVectorizer как у stemmed, так и у lemmed. Так же данные одинаковые как у тренеровочной сети, так и у тестовой сети. \n",
        "*   Худшие рещультаты у сетей, где использовался только один параметр token_pattern.\n",
        "\n"
      ]
    },
    {
      "cell_type": "markdown",
      "metadata": {
        "id": "-YyPbQQ2fzjr"
      },
      "source": [
        "### PCA"
      ]
    },
    {
      "cell_type": "code",
      "metadata": {
        "id": "7A7S25_fgAiq"
      },
      "source": [
        "pca_df = pd.DataFrame()\n",
        "\n",
        "for vector in [vector_corp_count, vector_corp_tf]:\n",
        "  for n in [100, 300, 500, 1000, 3000, 5000]:\n",
        "    svd = TruncatedSVD(n_components=n)\n",
        "\n",
        "    train_transform = vector.transform(train_x)\n",
        "    valid_transform = vector.transform(valid_x)\n",
        "\n",
        "      train_transform_pca = svd.fit_transform(train_transform)\n",
        "    valid_transform_pca = svd.transform(valid_transform)\n",
        "\n",
        "    classifier = linear_model.LogisticRegression(max_iter=10000)\n",
        "    classifier.fit(train_transform_pca, train_y)\n",
        "\n",
        "    predict = classifier.predict(valid_transform_pca)\n",
        "\n",
        "    pca_df = pca_df.append(\n",
        "        pd.DataFrame([[str(n), accuracy_score(valid_y, predict)]], columns=['# Components', 'Score'])\n",
        "    )"
      ],
      "execution_count": 189,
      "outputs": []
    },
    {
      "cell_type": "code",
      "metadata": {
        "colab": {
          "base_uri": "https://localhost:8080/",
          "height": 359
        },
        "id": "afbDq_-3kZn7",
        "outputId": "a5a100a6-d004-4ad5-cc3b-d93f04c3811a"
      },
      "source": [
        "pca_df.sort_values('Score', ascending=False, inplace=True)\n",
        "pca_df.head(10)"
      ],
      "execution_count": 190,
      "outputs": [
        {
          "output_type": "execute_result",
          "data": {
            "text/html": [
              "<div>\n",
              "<style scoped>\n",
              "    .dataframe tbody tr th:only-of-type {\n",
              "        vertical-align: middle;\n",
              "    }\n",
              "\n",
              "    .dataframe tbody tr th {\n",
              "        vertical-align: top;\n",
              "    }\n",
              "\n",
              "    .dataframe thead th {\n",
              "        text-align: right;\n",
              "    }\n",
              "</style>\n",
              "<table border=\"1\" class=\"dataframe\">\n",
              "  <thead>\n",
              "    <tr style=\"text-align: right;\">\n",
              "      <th></th>\n",
              "      <th># Components</th>\n",
              "      <th>Score</th>\n",
              "    </tr>\n",
              "  </thead>\n",
              "  <tbody>\n",
              "    <tr>\n",
              "      <th>0</th>\n",
              "      <td>5000</td>\n",
              "      <td>0.977350</td>\n",
              "    </tr>\n",
              "    <tr>\n",
              "      <th>0</th>\n",
              "      <td>3000</td>\n",
              "      <td>0.970555</td>\n",
              "    </tr>\n",
              "    <tr>\n",
              "      <th>0</th>\n",
              "      <td>5000</td>\n",
              "      <td>0.936391</td>\n",
              "    </tr>\n",
              "    <tr>\n",
              "      <th>0</th>\n",
              "      <td>3000</td>\n",
              "      <td>0.924689</td>\n",
              "    </tr>\n",
              "    <tr>\n",
              "      <th>0</th>\n",
              "      <td>1000</td>\n",
              "      <td>0.912609</td>\n",
              "    </tr>\n",
              "    <tr>\n",
              "      <th>0</th>\n",
              "      <td>1000</td>\n",
              "      <td>0.898830</td>\n",
              "    </tr>\n",
              "    <tr>\n",
              "      <th>0</th>\n",
              "      <td>500</td>\n",
              "      <td>0.886938</td>\n",
              "    </tr>\n",
              "    <tr>\n",
              "      <th>0</th>\n",
              "      <td>500</td>\n",
              "      <td>0.880143</td>\n",
              "    </tr>\n",
              "    <tr>\n",
              "      <th>0</th>\n",
              "      <td>300</td>\n",
              "      <td>0.878256</td>\n",
              "    </tr>\n",
              "    <tr>\n",
              "      <th>0</th>\n",
              "      <td>300</td>\n",
              "      <td>0.864288</td>\n",
              "    </tr>\n",
              "  </tbody>\n",
              "</table>\n",
              "</div>"
            ],
            "text/plain": [
              "  # Components     Score\n",
              "0         5000  0.977350\n",
              "0         3000  0.970555\n",
              "0         5000  0.936391\n",
              "0         3000  0.924689\n",
              "0         1000  0.912609\n",
              "0         1000  0.898830\n",
              "0          500  0.886938\n",
              "0          500  0.880143\n",
              "0          300  0.878256\n",
              "0          300  0.864288"
            ]
          },
          "metadata": {},
          "execution_count": 190
        }
      ]
    }
  ]
}