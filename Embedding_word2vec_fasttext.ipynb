{
  "nbformat": 4,
  "nbformat_minor": 0,
  "metadata": {
    "colab": {
      "name": "Embedding word2vec fasttext.ipynb",
      "provenance": [],
      "collapsed_sections": [],
      "authorship_tag": "ABX9TyOdUS7Kp6XdgT6XNJVX2D6A",
      "include_colab_link": true
    },
    "kernelspec": {
      "name": "python3",
      "display_name": "Python 3"
    },
    "language_info": {
      "name": "python"
    }
  },
  "cells": [
    {
      "cell_type": "markdown",
      "metadata": {
        "id": "view-in-github",
        "colab_type": "text"
      },
      "source": [
        "<a href=\"https://colab.research.google.com/github/WhiteAndBlackFox/nlp/blob/lessons3/Embedding_word2vec_fasttext.ipynb\" target=\"_parent\"><img src=\"https://colab.research.google.com/assets/colab-badge.svg\" alt=\"Open In Colab\"/></a>"
      ]
    },
    {
      "cell_type": "markdown",
      "source": [
        "# Embedding word2vec fasttext"
      ],
      "metadata": {
        "id": "V1i_EzrPazfD"
      }
    },
    {
      "cell_type": "code",
      "source": [
        "!pip install annoy\n",
        "!pip install pymorphy2"
      ],
      "metadata": {
        "colab": {
          "base_uri": "https://localhost:8080/"
        },
        "id": "9n6yGfWTbuNL",
        "outputId": "83bee95c-2832-4bc8-c6ef-30156563ea47"
      },
      "execution_count": 21,
      "outputs": [
        {
          "output_type": "stream",
          "name": "stdout",
          "text": [
            "Looking in indexes: https://pypi.org/simple, https://us-python.pkg.dev/colab-wheels/public/simple/\n",
            "Requirement already satisfied: annoy in /usr/local/lib/python3.7/dist-packages (1.17.0)\n",
            "Looking in indexes: https://pypi.org/simple, https://us-python.pkg.dev/colab-wheels/public/simple/\n",
            "Requirement already satisfied: pymorphy2 in /usr/local/lib/python3.7/dist-packages (0.9.1)\n",
            "Requirement already satisfied: dawg-python>=0.7.1 in /usr/local/lib/python3.7/dist-packages (from pymorphy2) (0.7.2)\n",
            "Requirement already satisfied: pymorphy2-dicts-ru<3.0,>=2.4 in /usr/local/lib/python3.7/dist-packages (from pymorphy2) (2.4.417127.4579844)\n",
            "Requirement already satisfied: docopt>=0.6 in /usr/local/lib/python3.7/dist-packages (from pymorphy2) (0.6.2)\n"
          ]
        }
      ]
    },
    {
      "cell_type": "markdown",
      "source": [
        "## Импортируем библиотеки"
      ],
      "metadata": {
        "id": "im6QI7xwbH4b"
      }
    },
    {
      "cell_type": "code",
      "source": [
        "import re\n",
        "import pandas as pd\n",
        "import numpy as np\n",
        "import annoy\n",
        "\n",
        "import nltk\n",
        "from nltk.corpus import stopwords\n",
        "from pymorphy2 import MorphAnalyzer\n",
        "from string import punctuation\n",
        "from gensim.models import Word2Vec, FastText\n",
        "\n",
        "for i in ['stopwords', 'punkt']:\n",
        "  nltk.download(i)"
      ],
      "metadata": {
        "colab": {
          "base_uri": "https://localhost:8080/"
        },
        "id": "1rrocQovbLBT",
        "outputId": "ae7f9405-e1fa-4f6a-ea3f-c11568d6ffca"
      },
      "execution_count": 22,
      "outputs": [
        {
          "output_type": "stream",
          "name": "stdout",
          "text": [
            "[nltk_data] Downloading package stopwords to /root/nltk_data...\n",
            "[nltk_data]   Package stopwords is already up-to-date!\n",
            "[nltk_data] Downloading package punkt to /root/nltk_data...\n",
            "[nltk_data]   Package punkt is already up-to-date!\n"
          ]
        }
      ]
    },
    {
      "cell_type": "markdown",
      "source": [
        "## Подготавливаем данные"
      ],
      "metadata": {
        "id": "ag-gQBihbATc"
      }
    },
    {
      "cell_type": "code",
      "execution_count": 23,
      "metadata": {
        "colab": {
          "base_uri": "https://localhost:8080/"
        },
        "id": "36Iq-I1hawEx",
        "outputId": "f416d001-55df-441c-a405-a8757312c685"
      },
      "outputs": [
        {
          "output_type": "stream",
          "name": "stdout",
          "text": [
            "--2022-06-13 13:50:55--  https://www.dropbox.com/s/fnpq3z4bcnoktiv/positive.csv\n",
            "Resolving www.dropbox.com (www.dropbox.com)... 162.125.2.18, 2620:100:6017:18::a27d:212\n",
            "Connecting to www.dropbox.com (www.dropbox.com)|162.125.2.18|:443... connected.\n",
            "HTTP request sent, awaiting response... 301 Moved Permanently\n",
            "Location: /s/raw/fnpq3z4bcnoktiv/positive.csv [following]\n",
            "--2022-06-13 13:50:55--  https://www.dropbox.com/s/raw/fnpq3z4bcnoktiv/positive.csv\n",
            "Reusing existing connection to www.dropbox.com:443.\n",
            "HTTP request sent, awaiting response... 302 Found\n",
            "Location: https://uc50b7d13307a39780c6e97af7ec.dl.dropboxusercontent.com/cd/0/inline/BnILbZ9jA-KJDy-bcVuYpXmCoM3OPll-TN6Qml8_8QIpyITvvjNRGPM2mTRor3W6abARiaNWdvZHXlJhU2lY6VfcA-EJtW0RImY6NWEuPYrpzfChrMwk-uPMAg-zBtxMbxz882GIiWwHlQY6IaCuXRPgSwtxkfD_rNFvufQT1AsYrw/file# [following]\n",
            "--2022-06-13 13:50:56--  https://uc50b7d13307a39780c6e97af7ec.dl.dropboxusercontent.com/cd/0/inline/BnILbZ9jA-KJDy-bcVuYpXmCoM3OPll-TN6Qml8_8QIpyITvvjNRGPM2mTRor3W6abARiaNWdvZHXlJhU2lY6VfcA-EJtW0RImY6NWEuPYrpzfChrMwk-uPMAg-zBtxMbxz882GIiWwHlQY6IaCuXRPgSwtxkfD_rNFvufQT1AsYrw/file\n",
            "Resolving uc50b7d13307a39780c6e97af7ec.dl.dropboxusercontent.com (uc50b7d13307a39780c6e97af7ec.dl.dropboxusercontent.com)... 162.125.2.15, 2620:100:6022:15::a27d:420f\n",
            "Connecting to uc50b7d13307a39780c6e97af7ec.dl.dropboxusercontent.com (uc50b7d13307a39780c6e97af7ec.dl.dropboxusercontent.com)|162.125.2.15|:443... connected.\n",
            "HTTP request sent, awaiting response... 200 OK\n",
            "Length: 26233379 (25M) [text/plain]\n",
            "Saving to: ‘positive.csv.1’\n",
            "\n",
            "positive.csv.1      100%[===================>]  25.02M  66.9MB/s    in 0.4s    \n",
            "\n",
            "2022-06-13 13:50:56 (66.9 MB/s) - ‘positive.csv.1’ saved [26233379/26233379]\n",
            "\n",
            "--2022-06-13 13:50:56--  https://www.dropbox.com/s/r6u59ljhhjdg6j0/negative.csv\n",
            "Resolving www.dropbox.com (www.dropbox.com)... 162.125.2.18, 2620:100:6017:18::a27d:212\n",
            "Connecting to www.dropbox.com (www.dropbox.com)|162.125.2.18|:443... connected.\n",
            "HTTP request sent, awaiting response... 301 Moved Permanently\n",
            "Location: /s/raw/r6u59ljhhjdg6j0/negative.csv [following]\n",
            "--2022-06-13 13:50:57--  https://www.dropbox.com/s/raw/r6u59ljhhjdg6j0/negative.csv\n",
            "Reusing existing connection to www.dropbox.com:443.\n",
            "HTTP request sent, awaiting response... 302 Found\n",
            "Location: https://uc5b3a848a98010e9881bfbb15b2.dl.dropboxusercontent.com/cd/0/inline/BnJKNzhvoC3qXH-bPyzsd9sf8yq-C0GbqzomhkohArCScbkMcgyF3QS0D6oOdKZ8t5gSvMQph1V-rO0UQXVizdrA1ZepIw_3lKWhCHLSlXHJlRktuRoH_MoneH4EuwJaQLxFYlIcXD7bXDz4Ui8EfIMUBHmUClUF8y2TO4X_RhV1-A/file# [following]\n",
            "--2022-06-13 13:50:57--  https://uc5b3a848a98010e9881bfbb15b2.dl.dropboxusercontent.com/cd/0/inline/BnJKNzhvoC3qXH-bPyzsd9sf8yq-C0GbqzomhkohArCScbkMcgyF3QS0D6oOdKZ8t5gSvMQph1V-rO0UQXVizdrA1ZepIw_3lKWhCHLSlXHJlRktuRoH_MoneH4EuwJaQLxFYlIcXD7bXDz4Ui8EfIMUBHmUClUF8y2TO4X_RhV1-A/file\n",
            "Resolving uc5b3a848a98010e9881bfbb15b2.dl.dropboxusercontent.com (uc5b3a848a98010e9881bfbb15b2.dl.dropboxusercontent.com)... 162.125.3.15, 2620:100:6017:15::a27d:20f\n",
            "Connecting to uc5b3a848a98010e9881bfbb15b2.dl.dropboxusercontent.com (uc5b3a848a98010e9881bfbb15b2.dl.dropboxusercontent.com)|162.125.3.15|:443... connected.\n",
            "HTTP request sent, awaiting response... 200 OK\n",
            "Length: 24450101 (23M) [text/plain]\n",
            "Saving to: ‘negative.csv.1’\n",
            "\n",
            "negative.csv.1      100%[===================>]  23.32M  32.5MB/s    in 0.7s    \n",
            "\n",
            "2022-06-13 13:50:58 (32.5 MB/s) - ‘negative.csv.1’ saved [24450101/24450101]\n",
            "\n"
          ]
        }
      ],
      "source": [
        "#@title Скачиваем данные\n",
        "!wget https://www.dropbox.com/s/fnpq3z4bcnoktiv/positive.csv\n",
        "!wget https://www.dropbox.com/s/r6u59ljhhjdg6j0/negative.csv"
      ]
    },
    {
      "cell_type": "markdown",
      "source": [
        "## 1. Объеденяем в одну выборку\n"
      ],
      "metadata": {
        "id": "G2Hnzgpxa70r"
      }
    },
    {
      "cell_type": "code",
      "source": [
        "pos = pd.read_csv('positive.csv', sep=\";\",  usecols=[3], names=['tweet'])\n",
        "pos['label'] = ['positive'] * len(pos)\n",
        "neg = pd.read_csv('negative.csv', sep=\";\",  usecols=[3], names=['tweet'])\n",
        "neg['label'] = ['negative'] * len(neg)\n",
        "df = pos.append(neg)\n",
        "df = df.reset_index().drop('index', axis=1)\n",
        "watch_df = df.iloc[np.r_[0:5, -5:0]]\n",
        "print(watch_df)"
      ],
      "metadata": {
        "colab": {
          "base_uri": "https://localhost:8080/"
        },
        "id": "6O3AKupycJgK",
        "outputId": "4669ab5c-919e-40c1-ea48-d5f1c4c76acb"
      },
      "execution_count": 24,
      "outputs": [
        {
          "output_type": "stream",
          "name": "stdout",
          "text": [
            "                                                    tweet     label\n",
            "0       @first_timee хоть я и школота, но поверь, у на...  positive\n",
            "1       Да, все-таки он немного похож на него. Но мой ...  positive\n",
            "2       RT @KatiaCheh: Ну ты идиотка) я испугалась за ...  positive\n",
            "3       RT @digger2912: \"Кто то в углу сидит и погибае...  positive\n",
            "4       @irina_dyshkant Вот что значит страшилка :D\\nН...  positive\n",
            "226829  Но не каждый хочет что то исправлять:( http://...  negative\n",
            "226830  скучаю так :-( только @taaannyaaa вправляет мо...  negative\n",
            "226831          Вот и в школу, в говно это идти уже надо(  negative\n",
            "226832  RT @_Them__: @LisaBeroud Тауриэль, не грусти :...  negative\n",
            "226833  Такси везет меня на работу. Раздумываю приплат...  negative\n"
          ]
        }
      ]
    },
    {
      "cell_type": "markdown",
      "source": [
        "## 2. На основе word2vec/fasttext/glove/слоя Embedding реализуем метод поиска ближайших твитов (на вход метода должен приходить запрос (какой-то твит, вопрос) и количество вариантов вывода к примеру 5-ть, ваш метод должен возвращать 5-ть ближайших твитов к этому запросу)\n"
      ],
      "metadata": {
        "id": "JzKDM3IZa9bq"
      }
    },
    {
      "cell_type": "code",
      "source": [
        "emoji_list = [\":)\",\":‑)\",\":-]\",\":-3\",\":->\",\"8-)\",\":-}\",\":o)\",\":c)\",\":^)\",\"=]\",\"=)\",\"<3\",\":-(\",\":(\",\":c\",\":<\",\":[\",\">:[\",\":{\",\">:(\",\":-c\",\":-< \",\":-[\",\":-||\"]\n",
        "morph = MorphAnalyzer()\n",
        "\n",
        "# Стоп слова нужны на русском\n",
        "stop_words = set(stopwords.words(\"russian\"))"
      ],
      "metadata": {
        "id": "-7G45Mahepmb"
      },
      "execution_count": 25,
      "outputs": []
    },
    {
      "cell_type": "code",
      "source": [
        "def del_emoji(words):\n",
        "  '''\n",
        "    Функция для удаления текстовых эмоций\n",
        "  '''\n",
        "  for el in emoji_list:\n",
        "    words = words.replace(el, '')\n",
        "  return words\n",
        "\n",
        "def preprocessing_text(txt: str):\n",
        "  '''\n",
        "    Предобработка текста, т.е. удаляем лишнее, заменяем и т.д.\n",
        "  '''\n",
        "  # Изначально все в нижний регистр переводим\n",
        "  txt = txt.lower()\n",
        "  # Удаляем всех пользователей: @user\n",
        "  txt = re.sub(r\"@[\\w]*\", '', txt)\n",
        "  # Удаляем эмодзи, чтобы не терялась смысловая нагрузка надо бы их конечно перобразовать в слова, на подобии: :) -> \"счастлив\" или :-( -> \"печально\", но мы это опустим\n",
        "  txt = del_emoji(txt)\n",
        "  # Удаляем всю пунктуацию\n",
        "  txt = re.sub(r'[^\\w\\s]', ' ', txt)\n",
        "  # Заменим спец. символы c цифрами на пробелы\n",
        "  txt = re.sub(r'[^a-zA-Zа-яёA-ЯЁ]', ' ', txt)\n",
        "  # Удалим из текста слова длиной менее 2-х символов\n",
        "  txt = [w for w in txt.split() if len(w) > 2]\n",
        "  # Удалим стоп-слова\n",
        "  txt = [w for w in txt if w not in stop_words] \n",
        "  # Приведем к нормальной форме\n",
        "  return [morph.parse(w)[0].normal_form for w in txt]  \n",
        "\n",
        "def get_response(question, index, model, index_map):\n",
        "  '''\n",
        "    Получение ответа из модели\n",
        "  '''\n",
        "  question = preprocessing_text(question)\n",
        "  vector = np.zeros(300)\n",
        "  norm = 0\n",
        "  for word in question:\n",
        "      if word in model.wv:\n",
        "          vector += model.wv[word]\n",
        "          norm += 1\n",
        "  if norm > 0:\n",
        "      vector = vector / norm\n",
        "  answers = index.get_nns_by_vector(vector, 5, )\n",
        "  return [index_map[i] for i in answers]"
      ],
      "metadata": {
        "id": "EmIVISBLc_Iy"
      },
      "execution_count": 26,
      "outputs": []
    },
    {
      "cell_type": "code",
      "source": [
        "df['preprocessing'] = df.tweet.apply(preprocessing_text)\n",
        "df.reset_index(drop=True)\n",
        "df.head()"
      ],
      "metadata": {
        "colab": {
          "base_uri": "https://localhost:8080/",
          "height": 206
        },
        "id": "avgwXjExiaDb",
        "outputId": "6bf80720-cc9a-4e12-8c87-cc81335ba707"
      },
      "execution_count": 27,
      "outputs": [
        {
          "output_type": "execute_result",
          "data": {
            "text/plain": [
              "                                               tweet     label  \\\n",
              "0  @first_timee хоть я и школота, но поверь, у на...  positive   \n",
              "1  Да, все-таки он немного похож на него. Но мой ...  positive   \n",
              "2  RT @KatiaCheh: Ну ты идиотка) я испугалась за ...  positive   \n",
              "3  RT @digger2912: \"Кто то в углу сидит и погибае...  positive   \n",
              "4  @irina_dyshkant Вот что значит страшилка :D\\nН...  positive   \n",
              "\n",
              "                                       preprocessing  \n",
              "0  [школотый, поверь, самый, общество, профилиров...  \n",
              "1           [таки, немного, похожий, мальчик, равно]  \n",
              "2                              [идиотка, испугаться]  \n",
              "3  [угол, сидеть, погибать, голод, ещё, порция, в...  \n",
              "4  [значит, страшилка, блин, посмотреть, часть, с...  "
            ],
            "text/html": [
              "\n",
              "  <div id=\"df-7d1d735a-9a92-467a-9a32-c5429b04f91c\">\n",
              "    <div class=\"colab-df-container\">\n",
              "      <div>\n",
              "<style scoped>\n",
              "    .dataframe tbody tr th:only-of-type {\n",
              "        vertical-align: middle;\n",
              "    }\n",
              "\n",
              "    .dataframe tbody tr th {\n",
              "        vertical-align: top;\n",
              "    }\n",
              "\n",
              "    .dataframe thead th {\n",
              "        text-align: right;\n",
              "    }\n",
              "</style>\n",
              "<table border=\"1\" class=\"dataframe\">\n",
              "  <thead>\n",
              "    <tr style=\"text-align: right;\">\n",
              "      <th></th>\n",
              "      <th>tweet</th>\n",
              "      <th>label</th>\n",
              "      <th>preprocessing</th>\n",
              "    </tr>\n",
              "  </thead>\n",
              "  <tbody>\n",
              "    <tr>\n",
              "      <th>0</th>\n",
              "      <td>@first_timee хоть я и школота, но поверь, у на...</td>\n",
              "      <td>positive</td>\n",
              "      <td>[школотый, поверь, самый, общество, профилиров...</td>\n",
              "    </tr>\n",
              "    <tr>\n",
              "      <th>1</th>\n",
              "      <td>Да, все-таки он немного похож на него. Но мой ...</td>\n",
              "      <td>positive</td>\n",
              "      <td>[таки, немного, похожий, мальчик, равно]</td>\n",
              "    </tr>\n",
              "    <tr>\n",
              "      <th>2</th>\n",
              "      <td>RT @KatiaCheh: Ну ты идиотка) я испугалась за ...</td>\n",
              "      <td>positive</td>\n",
              "      <td>[идиотка, испугаться]</td>\n",
              "    </tr>\n",
              "    <tr>\n",
              "      <th>3</th>\n",
              "      <td>RT @digger2912: \"Кто то в углу сидит и погибае...</td>\n",
              "      <td>positive</td>\n",
              "      <td>[угол, сидеть, погибать, голод, ещё, порция, в...</td>\n",
              "    </tr>\n",
              "    <tr>\n",
              "      <th>4</th>\n",
              "      <td>@irina_dyshkant Вот что значит страшилка :D\\nН...</td>\n",
              "      <td>positive</td>\n",
              "      <td>[значит, страшилка, блин, посмотреть, часть, с...</td>\n",
              "    </tr>\n",
              "  </tbody>\n",
              "</table>\n",
              "</div>\n",
              "      <button class=\"colab-df-convert\" onclick=\"convertToInteractive('df-7d1d735a-9a92-467a-9a32-c5429b04f91c')\"\n",
              "              title=\"Convert this dataframe to an interactive table.\"\n",
              "              style=\"display:none;\">\n",
              "        \n",
              "  <svg xmlns=\"http://www.w3.org/2000/svg\" height=\"24px\"viewBox=\"0 0 24 24\"\n",
              "       width=\"24px\">\n",
              "    <path d=\"M0 0h24v24H0V0z\" fill=\"none\"/>\n",
              "    <path d=\"M18.56 5.44l.94 2.06.94-2.06 2.06-.94-2.06-.94-.94-2.06-.94 2.06-2.06.94zm-11 1L8.5 8.5l.94-2.06 2.06-.94-2.06-.94L8.5 2.5l-.94 2.06-2.06.94zm10 10l.94 2.06.94-2.06 2.06-.94-2.06-.94-.94-2.06-.94 2.06-2.06.94z\"/><path d=\"M17.41 7.96l-1.37-1.37c-.4-.4-.92-.59-1.43-.59-.52 0-1.04.2-1.43.59L10.3 9.45l-7.72 7.72c-.78.78-.78 2.05 0 2.83L4 21.41c.39.39.9.59 1.41.59.51 0 1.02-.2 1.41-.59l7.78-7.78 2.81-2.81c.8-.78.8-2.07 0-2.86zM5.41 20L4 18.59l7.72-7.72 1.47 1.35L5.41 20z\"/>\n",
              "  </svg>\n",
              "      </button>\n",
              "      \n",
              "  <style>\n",
              "    .colab-df-container {\n",
              "      display:flex;\n",
              "      flex-wrap:wrap;\n",
              "      gap: 12px;\n",
              "    }\n",
              "\n",
              "    .colab-df-convert {\n",
              "      background-color: #E8F0FE;\n",
              "      border: none;\n",
              "      border-radius: 50%;\n",
              "      cursor: pointer;\n",
              "      display: none;\n",
              "      fill: #1967D2;\n",
              "      height: 32px;\n",
              "      padding: 0 0 0 0;\n",
              "      width: 32px;\n",
              "    }\n",
              "\n",
              "    .colab-df-convert:hover {\n",
              "      background-color: #E2EBFA;\n",
              "      box-shadow: 0px 1px 2px rgba(60, 64, 67, 0.3), 0px 1px 3px 1px rgba(60, 64, 67, 0.15);\n",
              "      fill: #174EA6;\n",
              "    }\n",
              "\n",
              "    [theme=dark] .colab-df-convert {\n",
              "      background-color: #3B4455;\n",
              "      fill: #D2E3FC;\n",
              "    }\n",
              "\n",
              "    [theme=dark] .colab-df-convert:hover {\n",
              "      background-color: #434B5C;\n",
              "      box-shadow: 0px 1px 3px 1px rgba(0, 0, 0, 0.15);\n",
              "      filter: drop-shadow(0px 1px 2px rgba(0, 0, 0, 0.3));\n",
              "      fill: #FFFFFF;\n",
              "    }\n",
              "  </style>\n",
              "\n",
              "      <script>\n",
              "        const buttonEl =\n",
              "          document.querySelector('#df-7d1d735a-9a92-467a-9a32-c5429b04f91c button.colab-df-convert');\n",
              "        buttonEl.style.display =\n",
              "          google.colab.kernel.accessAllowed ? 'block' : 'none';\n",
              "\n",
              "        async function convertToInteractive(key) {\n",
              "          const element = document.querySelector('#df-7d1d735a-9a92-467a-9a32-c5429b04f91c');\n",
              "          const dataTable =\n",
              "            await google.colab.kernel.invokeFunction('convertToInteractive',\n",
              "                                                     [key], {});\n",
              "          if (!dataTable) return;\n",
              "\n",
              "          const docLinkHtml = 'Like what you see? Visit the ' +\n",
              "            '<a target=\"_blank\" href=https://colab.research.google.com/notebooks/data_table.ipynb>data table notebook</a>'\n",
              "            + ' to learn more about interactive tables.';\n",
              "          element.innerHTML = '';\n",
              "          dataTable['output_type'] = 'display_data';\n",
              "          await google.colab.output.renderOutput(dataTable, element);\n",
              "          const docLink = document.createElement('div');\n",
              "          docLink.innerHTML = docLinkHtml;\n",
              "          element.appendChild(docLink);\n",
              "        }\n",
              "      </script>\n",
              "    </div>\n",
              "  </div>\n",
              "  "
            ]
          },
          "metadata": {},
          "execution_count": 27
        }
      ]
    },
    {
      "cell_type": "code",
      "source": [
        "# Для min_count все же используем не 1, а 5 (это значение по умолчанию), т.е. должно встретиться минимум 5 раз\n",
        "# Модель Word2Vec\n",
        "modelW2V = Word2Vec(sentences=df['preprocessing'].values, size=300, window=5, min_count=5, workers=8)\n",
        "\n",
        "# Модель FastText\n",
        "modelFT = FastText(sentences=df['preprocessing'].values, size=300, min_count=5, window=5, workers=8)"
      ],
      "metadata": {
        "id": "DcXAgjchks26"
      },
      "execution_count": 29,
      "outputs": []
    },
    {
      "cell_type": "code",
      "source": [
        "w2v_index = annoy.AnnoyIndex(300, 'angular')\n",
        "ft_index = annoy.AnnoyIndex(300, 'angular')\n",
        "\n",
        "counter = 0\n",
        "index_map = {}\n",
        "\n",
        "for line in df['tweet']:\n",
        "    n_w2v, n_ft = 0, 0\n",
        "\n",
        "    index_map[counter] = line\n",
        "    tweet = preprocessing_text(line)\n",
        "    \n",
        "    vector_w2v = np.zeros(300)\n",
        "    vector_ft = np.zeros(300)\n",
        "    for word in tweet:\n",
        "        if word in modelW2V.wv:\n",
        "            vector_w2v += modelW2V.wv[word]\n",
        "            n_w2v += 1\n",
        "        if word in modelFT.wv:\n",
        "            vector_ft += modelFT.wv[word]\n",
        "            n_ft += 1\n",
        "    if n_w2v > 0:\n",
        "        vector_w2v = vector_w2v / n_w2v\n",
        "    if n_ft > 0:\n",
        "        vector_ft = vector_ft / n_ft\n",
        "    w2v_index.add_item(counter, vector_w2v)\n",
        "    ft_index.add_item(counter, vector_ft)\n",
        "    counter += 1\n",
        "\n",
        "    if counter > 100000:\n",
        "        break\n",
        "\n",
        "w2v_index.build(10)\n",
        "ft_index.build(10)\n"
      ],
      "metadata": {
        "colab": {
          "base_uri": "https://localhost:8080/"
        },
        "id": "mXO59BNBmGca",
        "outputId": "40a38d23-3e36-451d-9dd1-c73f71aad158"
      },
      "execution_count": 30,
      "outputs": [
        {
          "output_type": "execute_result",
          "data": {
            "text/plain": [
              "True"
            ]
          },
          "metadata": {},
          "execution_count": 30
        }
      ]
    },
    {
      "cell_type": "markdown",
      "source": [
        "## 3. Проверить насколько хорошо работают подходы"
      ],
      "metadata": {
        "id": "_SVf60Rya-2y"
      }
    },
    {
      "cell_type": "code",
      "source": [
        "quest_tweet = \"В школе хорошо\""
      ],
      "metadata": {
        "id": "uSKQVwGBonmq"
      },
      "execution_count": 31,
      "outputs": []
    },
    {
      "cell_type": "code",
      "source": [
        "#@title Проверка у Word2Vec с позитивным комментом\n",
        "get_response(quest_tweet, w2v_index, modelW2V, index_map)"
      ],
      "metadata": {
        "colab": {
          "base_uri": "https://localhost:8080/"
        },
        "id": "RwViJpFqo1hi",
        "outputId": "efda1216-d62f-4b06-e17d-d574bdfcfabc"
      },
      "execution_count": 32,
      "outputs": [
        {
          "output_type": "execute_result",
          "data": {
            "text/plain": [
              "['@windrty @LudmilaSadovaja @volodya_Kharkov @zero_home секспросвет в школе, гендерство ) еще?',\n",
              " '@__wishmaster__ в 12:15 на кванте\\nМне ж еше в школу надо :D',\n",
              " 'Ну ничего себе, теперь и у 21 школы #подслушано есть)',\n",
              " 'RT @lesja_po_878104: наконец-то школа избавилась от меня :D',\n",
              " 'Нашаа школа обложалась крч. Но 18 школа крутяк выступила :)']"
            ]
          },
          "metadata": {},
          "execution_count": 32
        }
      ]
    },
    {
      "cell_type": "code",
      "source": [
        "#@title Проверка у FastText с позитивным комментом\n",
        "get_response(quest_tweet, ft_index, modelFT, index_map)"
      ],
      "metadata": {
        "colab": {
          "base_uri": "https://localhost:8080/"
        },
        "id": "T4VeZetGo8mK",
        "outputId": "5b278b79-c184-493a-e433-69ae16cf5e23"
      },
      "execution_count": 33,
      "outputs": [
        {
          "output_type": "execute_result",
          "data": {
            "text/plain": [
              "['не в школе, так хоть в одноклассниках я отличница ;)',\n",
              " 'RT @Hell_Thing: @ludiPrijatelj я в школе, какая постель? :D',\n",
              " 'было весело сегодня в школе, когда вместо звонка на урок, включили AC/DC - Highway to hell на всю школу :D',\n",
              " 'RT @id132932855: В пятницу в школе будет батл :3\\n Между учениками и учителями, уахах:8\\n Будет весело :D',\n",
              " '@NastyaNaaastya о, еще и в школе другой.у нас просто комиссии были.но в др школах мб даже помягче с дисциплиной будет)']"
            ]
          },
          "metadata": {},
          "execution_count": 33
        }
      ]
    },
    {
      "cell_type": "code",
      "source": [
        "quest_tweet = \"Плохое настроение\""
      ],
      "metadata": {
        "id": "oQjiDsw2cue5"
      },
      "execution_count": 34,
      "outputs": []
    },
    {
      "cell_type": "code",
      "source": [
        "#@title Проверка у Word2Vec с негативным комментом\n",
        "get_response(quest_tweet, w2v_index, modelW2V, index_map)"
      ],
      "metadata": {
        "colab": {
          "base_uri": "https://localhost:8080/"
        },
        "id": "UwzxaQHhc2Tr",
        "outputId": "32de3166-c7b4-4aa5-8dfa-4f6ec1237e24"
      },
      "execution_count": 35,
      "outputs": [
        {
          "output_type": "execute_result",
          "data": {
            "text/plain": [
              "['@NataliaShavel @sergeylazarev мне она всегда настроение поднимает.)))',\n",
              " '@borisov_vasiliy @NikolinaTheOne , Вася, твить больше %) поднимай настроение %)',\n",
              " 'Шавкун,ты всегда поднимешь настроение:) какой бы тяжёлай..ситуация не была :)\\n#певцыотбога',\n",
              " '@Verrraverrra Приветик, Верочка ))@wmk2u @LanaFom @akutata11 @ZhSlava @alex07s @Weelelee @Vikiiri Веселого настроения ))',\n",
              " 'Хорошее настроение *-*\\nНесколько слов, а настроение лучше сразу\\nСпасиииибо:**']"
            ]
          },
          "metadata": {},
          "execution_count": 35
        }
      ]
    },
    {
      "cell_type": "code",
      "source": [
        "#@title Проверка у FastText с негативным комментом\n",
        "get_response(quest_tweet, ft_index, modelFT, index_map)"
      ],
      "metadata": {
        "colab": {
          "base_uri": "https://localhost:8080/"
        },
        "id": "s0omHaMAc3ER",
        "outputId": "144a5f6e-a06b-41f2-cbb9-050c82575ad8"
      },
      "execution_count": 36,
      "outputs": [
        {
          "output_type": "execute_result",
          "data": {
            "text/plain": [
              "['@because_malik Та у меня вроде как настроение хорошее )',\n",
              " '@cuddlewthzourry у меня сегодня плохое настроение ссорьки )',\n",
              " 'Хорошее настроение *-*\\nНесколько слов, а настроение лучше сразу\\nСпасиииибо:**',\n",
              " '-Хорошее настроение у меня)\\nЫчкынале!:D @Alinkaaaaa98',\n",
              " '@Valeriya_Zarya @viksimon1 прекрасного настроения вам)']"
            ]
          },
          "metadata": {},
          "execution_count": 36
        }
      ]
    },
    {
      "cell_type": "markdown",
      "source": [
        "## Вывод\n",
        "Судя по резултату... Если с положительным комментарием еще можно как-то связать, то контекст у негативного комментария далеко утерян. Может быть это связано с тем что потерли смайлики или перебрали с предобработкой, надо будет попробовать."
      ],
      "metadata": {
        "id": "Et8MRLhXpDyw"
      }
    }
  ]
}