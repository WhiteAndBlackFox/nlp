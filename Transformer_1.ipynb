{
  "nbformat": 4,
  "nbformat_minor": 0,
  "metadata": {
    "colab": {
      "name": "Transformer-1.ipynb",
      "provenance": [],
      "collapsed_sections": [],
      "authorship_tag": "ABX9TyPE+E8Xm1x7gA76ZrKOKPV6",
      "include_colab_link": true
    },
    "kernelspec": {
      "name": "python3",
      "display_name": "Python 3"
    },
    "language_info": {
      "name": "python"
    },
    "accelerator": "GPU",
    "gpuClass": "standard",
    "widgets": {
      "application/vnd.jupyter.widget-state+json": {
        "6d02580cbdae47fe92ee8aebbe3ab446": {
          "model_module": "@jupyter-widgets/controls",
          "model_name": "HBoxModel",
          "model_module_version": "1.5.0",
          "state": {
            "_dom_classes": [],
            "_model_module": "@jupyter-widgets/controls",
            "_model_module_version": "1.5.0",
            "_model_name": "HBoxModel",
            "_view_count": null,
            "_view_module": "@jupyter-widgets/controls",
            "_view_module_version": "1.5.0",
            "_view_name": "HBoxView",
            "box_style": "",
            "children": [
              "IPY_MODEL_2d463e816e234f5db1608ffdc83667f0",
              "IPY_MODEL_bcccc508a2694579b1041aa2bfe6cc2b",
              "IPY_MODEL_f98c7073997c496099fbe380f70cd1d1"
            ],
            "layout": "IPY_MODEL_8467edec6d194f6c9ce1a41172c57c73"
          }
        },
        "2d463e816e234f5db1608ffdc83667f0": {
          "model_module": "@jupyter-widgets/controls",
          "model_name": "HTMLModel",
          "model_module_version": "1.5.0",
          "state": {
            "_dom_classes": [],
            "_model_module": "@jupyter-widgets/controls",
            "_model_module_version": "1.5.0",
            "_model_name": "HTMLModel",
            "_view_count": null,
            "_view_module": "@jupyter-widgets/controls",
            "_view_module_version": "1.5.0",
            "_view_name": "HTMLView",
            "description": "",
            "description_tooltip": null,
            "layout": "IPY_MODEL_6e0b646a0ec043ed82f5a9dad13f6580",
            "placeholder": "​",
            "style": "IPY_MODEL_68bc6b9173d343edab8e35a10464e995",
            "value": "100%"
          }
        },
        "bcccc508a2694579b1041aa2bfe6cc2b": {
          "model_module": "@jupyter-widgets/controls",
          "model_name": "FloatProgressModel",
          "model_module_version": "1.5.0",
          "state": {
            "_dom_classes": [],
            "_model_module": "@jupyter-widgets/controls",
            "_model_module_version": "1.5.0",
            "_model_name": "FloatProgressModel",
            "_view_count": null,
            "_view_module": "@jupyter-widgets/controls",
            "_view_module_version": "1.5.0",
            "_view_name": "ProgressView",
            "bar_style": "success",
            "description": "",
            "description_tooltip": null,
            "layout": "IPY_MODEL_8172f969bd3b49428bbd439f6a746612",
            "max": 3,
            "min": 0,
            "orientation": "horizontal",
            "style": "IPY_MODEL_3bb5322926ac4af7bdd041ebe3dc23b7",
            "value": 3
          }
        },
        "f98c7073997c496099fbe380f70cd1d1": {
          "model_module": "@jupyter-widgets/controls",
          "model_name": "HTMLModel",
          "model_module_version": "1.5.0",
          "state": {
            "_dom_classes": [],
            "_model_module": "@jupyter-widgets/controls",
            "_model_module_version": "1.5.0",
            "_model_name": "HTMLModel",
            "_view_count": null,
            "_view_module": "@jupyter-widgets/controls",
            "_view_module_version": "1.5.0",
            "_view_name": "HTMLView",
            "description": "",
            "description_tooltip": null,
            "layout": "IPY_MODEL_db13bd5a6d784f919b55f0f032dfb3f4",
            "placeholder": "​",
            "style": "IPY_MODEL_5360a00ef2e04cfa8f3c13930ce04ef4",
            "value": " 3/3 [00:00&lt;00:00, 46.15it/s]"
          }
        },
        "8467edec6d194f6c9ce1a41172c57c73": {
          "model_module": "@jupyter-widgets/base",
          "model_name": "LayoutModel",
          "model_module_version": "1.2.0",
          "state": {
            "_model_module": "@jupyter-widgets/base",
            "_model_module_version": "1.2.0",
            "_model_name": "LayoutModel",
            "_view_count": null,
            "_view_module": "@jupyter-widgets/base",
            "_view_module_version": "1.2.0",
            "_view_name": "LayoutView",
            "align_content": null,
            "align_items": null,
            "align_self": null,
            "border": null,
            "bottom": null,
            "display": null,
            "flex": null,
            "flex_flow": null,
            "grid_area": null,
            "grid_auto_columns": null,
            "grid_auto_flow": null,
            "grid_auto_rows": null,
            "grid_column": null,
            "grid_gap": null,
            "grid_row": null,
            "grid_template_areas": null,
            "grid_template_columns": null,
            "grid_template_rows": null,
            "height": null,
            "justify_content": null,
            "justify_items": null,
            "left": null,
            "margin": null,
            "max_height": null,
            "max_width": null,
            "min_height": null,
            "min_width": null,
            "object_fit": null,
            "object_position": null,
            "order": null,
            "overflow": null,
            "overflow_x": null,
            "overflow_y": null,
            "padding": null,
            "right": null,
            "top": null,
            "visibility": null,
            "width": null
          }
        },
        "6e0b646a0ec043ed82f5a9dad13f6580": {
          "model_module": "@jupyter-widgets/base",
          "model_name": "LayoutModel",
          "model_module_version": "1.2.0",
          "state": {
            "_model_module": "@jupyter-widgets/base",
            "_model_module_version": "1.2.0",
            "_model_name": "LayoutModel",
            "_view_count": null,
            "_view_module": "@jupyter-widgets/base",
            "_view_module_version": "1.2.0",
            "_view_name": "LayoutView",
            "align_content": null,
            "align_items": null,
            "align_self": null,
            "border": null,
            "bottom": null,
            "display": null,
            "flex": null,
            "flex_flow": null,
            "grid_area": null,
            "grid_auto_columns": null,
            "grid_auto_flow": null,
            "grid_auto_rows": null,
            "grid_column": null,
            "grid_gap": null,
            "grid_row": null,
            "grid_template_areas": null,
            "grid_template_columns": null,
            "grid_template_rows": null,
            "height": null,
            "justify_content": null,
            "justify_items": null,
            "left": null,
            "margin": null,
            "max_height": null,
            "max_width": null,
            "min_height": null,
            "min_width": null,
            "object_fit": null,
            "object_position": null,
            "order": null,
            "overflow": null,
            "overflow_x": null,
            "overflow_y": null,
            "padding": null,
            "right": null,
            "top": null,
            "visibility": null,
            "width": null
          }
        },
        "68bc6b9173d343edab8e35a10464e995": {
          "model_module": "@jupyter-widgets/controls",
          "model_name": "DescriptionStyleModel",
          "model_module_version": "1.5.0",
          "state": {
            "_model_module": "@jupyter-widgets/controls",
            "_model_module_version": "1.5.0",
            "_model_name": "DescriptionStyleModel",
            "_view_count": null,
            "_view_module": "@jupyter-widgets/base",
            "_view_module_version": "1.2.0",
            "_view_name": "StyleView",
            "description_width": ""
          }
        },
        "8172f969bd3b49428bbd439f6a746612": {
          "model_module": "@jupyter-widgets/base",
          "model_name": "LayoutModel",
          "model_module_version": "1.2.0",
          "state": {
            "_model_module": "@jupyter-widgets/base",
            "_model_module_version": "1.2.0",
            "_model_name": "LayoutModel",
            "_view_count": null,
            "_view_module": "@jupyter-widgets/base",
            "_view_module_version": "1.2.0",
            "_view_name": "LayoutView",
            "align_content": null,
            "align_items": null,
            "align_self": null,
            "border": null,
            "bottom": null,
            "display": null,
            "flex": null,
            "flex_flow": null,
            "grid_area": null,
            "grid_auto_columns": null,
            "grid_auto_flow": null,
            "grid_auto_rows": null,
            "grid_column": null,
            "grid_gap": null,
            "grid_row": null,
            "grid_template_areas": null,
            "grid_template_columns": null,
            "grid_template_rows": null,
            "height": null,
            "justify_content": null,
            "justify_items": null,
            "left": null,
            "margin": null,
            "max_height": null,
            "max_width": null,
            "min_height": null,
            "min_width": null,
            "object_fit": null,
            "object_position": null,
            "order": null,
            "overflow": null,
            "overflow_x": null,
            "overflow_y": null,
            "padding": null,
            "right": null,
            "top": null,
            "visibility": null,
            "width": null
          }
        },
        "3bb5322926ac4af7bdd041ebe3dc23b7": {
          "model_module": "@jupyter-widgets/controls",
          "model_name": "ProgressStyleModel",
          "model_module_version": "1.5.0",
          "state": {
            "_model_module": "@jupyter-widgets/controls",
            "_model_module_version": "1.5.0",
            "_model_name": "ProgressStyleModel",
            "_view_count": null,
            "_view_module": "@jupyter-widgets/base",
            "_view_module_version": "1.2.0",
            "_view_name": "StyleView",
            "bar_color": null,
            "description_width": ""
          }
        },
        "db13bd5a6d784f919b55f0f032dfb3f4": {
          "model_module": "@jupyter-widgets/base",
          "model_name": "LayoutModel",
          "model_module_version": "1.2.0",
          "state": {
            "_model_module": "@jupyter-widgets/base",
            "_model_module_version": "1.2.0",
            "_model_name": "LayoutModel",
            "_view_count": null,
            "_view_module": "@jupyter-widgets/base",
            "_view_module_version": "1.2.0",
            "_view_name": "LayoutView",
            "align_content": null,
            "align_items": null,
            "align_self": null,
            "border": null,
            "bottom": null,
            "display": null,
            "flex": null,
            "flex_flow": null,
            "grid_area": null,
            "grid_auto_columns": null,
            "grid_auto_flow": null,
            "grid_auto_rows": null,
            "grid_column": null,
            "grid_gap": null,
            "grid_row": null,
            "grid_template_areas": null,
            "grid_template_columns": null,
            "grid_template_rows": null,
            "height": null,
            "justify_content": null,
            "justify_items": null,
            "left": null,
            "margin": null,
            "max_height": null,
            "max_width": null,
            "min_height": null,
            "min_width": null,
            "object_fit": null,
            "object_position": null,
            "order": null,
            "overflow": null,
            "overflow_x": null,
            "overflow_y": null,
            "padding": null,
            "right": null,
            "top": null,
            "visibility": null,
            "width": null
          }
        },
        "5360a00ef2e04cfa8f3c13930ce04ef4": {
          "model_module": "@jupyter-widgets/controls",
          "model_name": "DescriptionStyleModel",
          "model_module_version": "1.5.0",
          "state": {
            "_model_module": "@jupyter-widgets/controls",
            "_model_module_version": "1.5.0",
            "_model_name": "DescriptionStyleModel",
            "_view_count": null,
            "_view_module": "@jupyter-widgets/base",
            "_view_module_version": "1.2.0",
            "_view_name": "StyleView",
            "description_width": ""
          }
        }
      }
    }
  },
  "cells": [
    {
      "cell_type": "markdown",
      "metadata": {
        "id": "view-in-github",
        "colab_type": "text"
      },
      "source": [
        "<a href=\"https://colab.research.google.com/github/WhiteAndBlackFox/nlp/blob/Transform1/Transformer_1.ipynb\" target=\"_parent\"><img src=\"https://colab.research.google.com/assets/colab-badge.svg\" alt=\"Open In Colab\"/></a>"
      ]
    },
    {
      "cell_type": "markdown",
      "source": [
        "# Модель Transformer-1"
      ],
      "metadata": {
        "id": "7KA9BuP-rqo3"
      }
    },
    {
      "cell_type": "markdown",
      "source": [
        "## Доставляем библиотеки"
      ],
      "metadata": {
        "id": "2jiycR_EkqFB"
      }
    },
    {
      "cell_type": "code",
      "source": [
        "!pip install transformers transformers[sentencepiece] sentencepiece datasets sacremoses corus sentence-transformers"
      ],
      "metadata": {
        "colab": {
          "base_uri": "https://localhost:8080/"
        },
        "id": "cTS5rcCSksoM",
        "outputId": "e1c8bd55-ca0b-432d-a7cd-07164f9c5612"
      },
      "execution_count": 46,
      "outputs": [
        {
          "output_type": "stream",
          "name": "stdout",
          "text": [
            "Looking in indexes: https://pypi.org/simple, https://us-python.pkg.dev/colab-wheels/public/simple/\n",
            "Requirement already satisfied: transformers in /usr/local/lib/python3.7/dist-packages (4.20.1)\n",
            "Requirement already satisfied: sentencepiece in /usr/local/lib/python3.7/dist-packages (0.1.96)\n",
            "Requirement already satisfied: datasets in /usr/local/lib/python3.7/dist-packages (2.3.2)\n",
            "Requirement already satisfied: sacremoses in /usr/local/lib/python3.7/dist-packages (0.0.53)\n",
            "Requirement already satisfied: corus in /usr/local/lib/python3.7/dist-packages (0.9.0)\n",
            "Collecting sentence-transformers\n",
            "  Downloading sentence-transformers-2.2.2.tar.gz (85 kB)\n",
            "\u001b[K     |████████████████████████████████| 85 kB 4.6 MB/s \n",
            "\u001b[?25hRequirement already satisfied: importlib-metadata in /usr/local/lib/python3.7/dist-packages (from transformers) (4.11.4)\n",
            "Requirement already satisfied: regex!=2019.12.17 in /usr/local/lib/python3.7/dist-packages (from transformers) (2022.6.2)\n",
            "Requirement already satisfied: tqdm>=4.27 in /usr/local/lib/python3.7/dist-packages (from transformers) (4.64.0)\n",
            "Requirement already satisfied: packaging>=20.0 in /usr/local/lib/python3.7/dist-packages (from transformers) (21.3)\n",
            "Requirement already satisfied: filelock in /usr/local/lib/python3.7/dist-packages (from transformers) (3.7.1)\n",
            "Requirement already satisfied: pyyaml>=5.1 in /usr/local/lib/python3.7/dist-packages (from transformers) (6.0)\n",
            "Requirement already satisfied: numpy>=1.17 in /usr/local/lib/python3.7/dist-packages (from transformers) (1.21.6)\n",
            "Requirement already satisfied: requests in /usr/local/lib/python3.7/dist-packages (from transformers) (2.23.0)\n",
            "Requirement already satisfied: tokenizers!=0.11.3,<0.13,>=0.11.1 in /usr/local/lib/python3.7/dist-packages (from transformers) (0.12.1)\n",
            "Requirement already satisfied: huggingface-hub<1.0,>=0.1.0 in /usr/local/lib/python3.7/dist-packages (from transformers) (0.8.1)\n",
            "Requirement already satisfied: typing-extensions>=3.7.4.3 in /usr/local/lib/python3.7/dist-packages (from huggingface-hub<1.0,>=0.1.0->transformers) (4.1.1)\n",
            "Requirement already satisfied: pyparsing!=3.0.5,>=2.0.2 in /usr/local/lib/python3.7/dist-packages (from packaging>=20.0->transformers) (3.0.9)\n",
            "Requirement already satisfied: responses<0.19 in /usr/local/lib/python3.7/dist-packages (from datasets) (0.18.0)\n",
            "Requirement already satisfied: aiohttp in /usr/local/lib/python3.7/dist-packages (from datasets) (3.8.1)\n",
            "Requirement already satisfied: dill<0.3.6 in /usr/local/lib/python3.7/dist-packages (from datasets) (0.3.5.1)\n",
            "Requirement already satisfied: pyarrow>=6.0.0 in /usr/local/lib/python3.7/dist-packages (from datasets) (6.0.1)\n",
            "Requirement already satisfied: xxhash in /usr/local/lib/python3.7/dist-packages (from datasets) (3.0.0)\n",
            "Requirement already satisfied: multiprocess in /usr/local/lib/python3.7/dist-packages (from datasets) (0.70.13)\n",
            "Requirement already satisfied: fsspec[http]>=2021.05.0 in /usr/local/lib/python3.7/dist-packages (from datasets) (2022.5.0)\n",
            "Requirement already satisfied: pandas in /usr/local/lib/python3.7/dist-packages (from datasets) (1.3.5)\n",
            "Requirement already satisfied: chardet<4,>=3.0.2 in /usr/local/lib/python3.7/dist-packages (from requests->transformers) (3.0.4)\n",
            "Requirement already satisfied: idna<3,>=2.5 in /usr/local/lib/python3.7/dist-packages (from requests->transformers) (2.10)\n",
            "Requirement already satisfied: urllib3!=1.25.0,!=1.25.1,<1.26,>=1.21.1 in /usr/local/lib/python3.7/dist-packages (from requests->transformers) (1.25.11)\n",
            "Requirement already satisfied: certifi>=2017.4.17 in /usr/local/lib/python3.7/dist-packages (from requests->transformers) (2022.6.15)\n",
            "Requirement already satisfied: click in /usr/local/lib/python3.7/dist-packages (from sacremoses) (7.1.2)\n",
            "Requirement already satisfied: six in /usr/local/lib/python3.7/dist-packages (from sacremoses) (1.15.0)\n",
            "Requirement already satisfied: joblib in /usr/local/lib/python3.7/dist-packages (from sacremoses) (1.1.0)\n",
            "Requirement already satisfied: torch>=1.6.0 in /usr/local/lib/python3.7/dist-packages (from sentence-transformers) (1.11.0+cu113)\n",
            "Requirement already satisfied: torchvision in /usr/local/lib/python3.7/dist-packages (from sentence-transformers) (0.12.0+cu113)\n",
            "Requirement already satisfied: scikit-learn in /usr/local/lib/python3.7/dist-packages (from sentence-transformers) (1.0.2)\n",
            "Requirement already satisfied: scipy in /usr/local/lib/python3.7/dist-packages (from sentence-transformers) (1.4.1)\n",
            "Requirement already satisfied: nltk in /usr/local/lib/python3.7/dist-packages (from sentence-transformers) (3.7)\n",
            "Requirement already satisfied: frozenlist>=1.1.1 in /usr/local/lib/python3.7/dist-packages (from aiohttp->datasets) (1.3.0)\n",
            "Requirement already satisfied: asynctest==0.13.0 in /usr/local/lib/python3.7/dist-packages (from aiohttp->datasets) (0.13.0)\n",
            "Requirement already satisfied: attrs>=17.3.0 in /usr/local/lib/python3.7/dist-packages (from aiohttp->datasets) (21.4.0)\n",
            "Requirement already satisfied: multidict<7.0,>=4.5 in /usr/local/lib/python3.7/dist-packages (from aiohttp->datasets) (6.0.2)\n",
            "Requirement already satisfied: async-timeout<5.0,>=4.0.0a3 in /usr/local/lib/python3.7/dist-packages (from aiohttp->datasets) (4.0.2)\n",
            "Requirement already satisfied: charset-normalizer<3.0,>=2.0 in /usr/local/lib/python3.7/dist-packages (from aiohttp->datasets) (2.1.0)\n",
            "Requirement already satisfied: yarl<2.0,>=1.0 in /usr/local/lib/python3.7/dist-packages (from aiohttp->datasets) (1.7.2)\n",
            "Requirement already satisfied: aiosignal>=1.1.2 in /usr/local/lib/python3.7/dist-packages (from aiohttp->datasets) (1.2.0)\n",
            "Requirement already satisfied: zipp>=0.5 in /usr/local/lib/python3.7/dist-packages (from importlib-metadata->transformers) (3.8.0)\n",
            "Requirement already satisfied: python-dateutil>=2.7.3 in /usr/local/lib/python3.7/dist-packages (from pandas->datasets) (2.8.2)\n",
            "Requirement already satisfied: pytz>=2017.3 in /usr/local/lib/python3.7/dist-packages (from pandas->datasets) (2022.1)\n",
            "Requirement already satisfied: threadpoolctl>=2.0.0 in /usr/local/lib/python3.7/dist-packages (from scikit-learn->sentence-transformers) (3.1.0)\n",
            "Requirement already satisfied: pillow!=8.3.*,>=5.3.0 in /usr/local/lib/python3.7/dist-packages (from torchvision->sentence-transformers) (7.1.2)\n",
            "Requirement already satisfied: protobuf<=3.20.1 in /usr/local/lib/python3.7/dist-packages (from transformers) (3.17.3)\n",
            "Building wheels for collected packages: sentence-transformers\n",
            "  Building wheel for sentence-transformers (setup.py) ... \u001b[?25l\u001b[?25hdone\n",
            "  Created wheel for sentence-transformers: filename=sentence_transformers-2.2.2-py3-none-any.whl size=125938 sha256=c898c04871c116ca0d5e11d6aa99bb54bcdb31a0336b8543cbb988ccd0890294\n",
            "  Stored in directory: /root/.cache/pip/wheels/bf/06/fb/d59c1e5bd1dac7f6cf61ec0036cc3a10ab8fecaa6b2c3d3ee9\n",
            "Successfully built sentence-transformers\n",
            "Installing collected packages: sentence-transformers\n",
            "Successfully installed sentence-transformers-2.2.2\n"
          ]
        }
      ]
    },
    {
      "cell_type": "markdown",
      "source": [
        "## Испортируем общие библиотеки"
      ],
      "metadata": {
        "id": "jI6Z9RFwkuos"
      }
    },
    {
      "cell_type": "code",
      "execution_count": 23,
      "metadata": {
        "id": "P-JGFWbQqTts"
      },
      "outputs": [],
      "source": [
        "import pandas as pd\n",
        "import numpy as np\n",
        "import torch\n",
        "\n",
        "from tqdm import tqdm\n",
        "\n",
        "tqdm.pandas()\n",
        "\n",
        "DEVICE = \"cuda:0\" if torch.cuda.is_available() else \"cpu\""
      ]
    },
    {
      "cell_type": "markdown",
      "source": [
        "## Дополнительные функции"
      ],
      "metadata": {
        "id": "yyi1t303o_sS"
      }
    },
    {
      "cell_type": "code",
      "source": [
        "def translate(text):\n",
        "  \"\"\"\n",
        "    Функция перевода\n",
        "  \"\"\"\n",
        "  input_ids = tokenizer.encode(text, return_tensors=\"pt\").to(DEVICE)\n",
        "  outputs = model.generate(input_ids).to(DEVICE)\n",
        "  return tokenizer.decode(outputs[0], skip_special_tokens=True)\n",
        "\n",
        "def rnd_df(df, count, field_name):\n",
        "  \"\"\"\n",
        "    Взять рандомные значения из датасета\n",
        "  \"\"\"\n",
        "  rnd = np.random.randint(1000, df.shape[0])\n",
        "  return df.iloc[rnd, field_name]\n",
        "\n",
        "def similar(embeddings, sentence, n=1):\n",
        "  \"\"\"\n",
        "    Получить похожие вложения\n",
        "  \"\"\"\n",
        "  s_emb =  model.encode([sentence], convert_to_tensor=True).to(DEVICE)\n",
        "  cos_scores = util.cos_sim(s_emb, embeddings).to(DEVICE)\n",
        "  cpu_cos_scores = cos_scores.tolist()\n",
        "  top_results = np.argpartition(cpu_cos_scores[0], -n)[-n:]\n",
        "  \n",
        "  return cos_scores, top_results"
      ],
      "metadata": {
        "id": "MmDyyDxDo-_T"
      },
      "execution_count": 118,
      "outputs": []
    },
    {
      "cell_type": "markdown",
      "source": [
        "## 1. Возмем предобученную трансформерную архитектуру и решим задачу перевода"
      ],
      "metadata": {
        "id": "DZn5dImfkVHs"
      }
    },
    {
      "cell_type": "code",
      "source": [
        "from transformers import AutoTokenizer, AutoModelForSeq2SeqLM\n",
        "model_name = \"Helsinki-NLP/opus-mt-en-ru\"\n",
        "tokenizer = AutoTokenizer.from_pretrained(model_name)\n",
        "model = AutoModelForSeq2SeqLM.from_pretrained(model_name).to(DEVICE)"
      ],
      "metadata": {
        "id": "ZmWPG-ZGkhfk"
      },
      "execution_count": 19,
      "outputs": []
    },
    {
      "cell_type": "code",
      "source": [
        "from datasets import load_dataset\n",
        "\n",
        "dataset = load_dataset(\"cosmos_qa\")"
      ],
      "metadata": {
        "colab": {
          "base_uri": "https://localhost:8080/",
          "height": 104,
          "referenced_widgets": [
            "6d02580cbdae47fe92ee8aebbe3ab446",
            "2d463e816e234f5db1608ffdc83667f0",
            "bcccc508a2694579b1041aa2bfe6cc2b",
            "f98c7073997c496099fbe380f70cd1d1",
            "8467edec6d194f6c9ce1a41172c57c73",
            "6e0b646a0ec043ed82f5a9dad13f6580",
            "68bc6b9173d343edab8e35a10464e995",
            "8172f969bd3b49428bbd439f6a746612",
            "3bb5322926ac4af7bdd041ebe3dc23b7",
            "db13bd5a6d784f919b55f0f032dfb3f4",
            "5360a00ef2e04cfa8f3c13930ce04ef4"
          ]
        },
        "id": "E2MrGOrjlFiV",
        "outputId": "487aa9cf-510f-41e8-ecb8-adab31aaef1e"
      },
      "execution_count": 20,
      "outputs": [
        {
          "output_type": "stream",
          "name": "stderr",
          "text": [
            "Using custom data configuration default\n",
            "Reusing dataset cosmos_qa (/root/.cache/huggingface/datasets/cosmos_qa/default/0.1.0/e4e873eafb86b174fbfdf309a8baac27525753e655fe93f48f99023efa950ae6)\n"
          ]
        },
        {
          "output_type": "display_data",
          "data": {
            "text/plain": [
              "  0%|          | 0/3 [00:00<?, ?it/s]"
            ],
            "application/vnd.jupyter.widget-view+json": {
              "version_major": 2,
              "version_minor": 0,
              "model_id": "6d02580cbdae47fe92ee8aebbe3ab446"
            }
          },
          "metadata": {}
        }
      ]
    },
    {
      "cell_type": "code",
      "source": [
        "df = pd.DataFrame(dataset[\"train\"])\n",
        "df.head()"
      ],
      "metadata": {
        "colab": {
          "base_uri": "https://localhost:8080/",
          "height": 774
        },
        "id": "xGepQQa3obc0",
        "outputId": "d6ba0620-f984-47f1-8658-a7348b63fcaa"
      },
      "execution_count": 21,
      "outputs": [
        {
          "output_type": "execute_result",
          "data": {
            "text/plain": [
              "                                                  id  \\\n",
              "0  3Q9SPIIRWJKVQ8244310E8TUS6YWAC##34V1S5K3GTZMDU...   \n",
              "1  3E24UO25QZOMYXHZN4TEH9EMT9GO6L##3UN61F00HXNWYQ...   \n",
              "2  3M4KL7H8KVL125AYH2V35D1E0A016T##3SB5N7Y3O426ET...   \n",
              "3  3D5G8J4N5CI2K40F4RZLF9OG2L4VTJ##34MAJL3QP721EU...   \n",
              "4  3MQKOF1EE428I44N8B42W7P86DKDW4##3NJM2BJS4ZLBGN...   \n",
              "\n",
              "                                             context  \\\n",
              "0  Good Old War and person L : I saw both of thes...   \n",
              "1  I mean it : not one person said ANYTHING to me...   \n",
              "2  Leaving my shift Thursday day shift I arrived ...   \n",
              "3  So , last day in Seattle , and my flight was a...   \n",
              "4  Ms. Mumma informed Mr. Dail that evidence had ...   \n",
              "\n",
              "                                            question  \\\n",
              "0  In the future , will this person go to see oth...   \n",
              "1  Why might have the temp agency tell me I am no...   \n",
              "2  What may have caused the radio to erupt with d...   \n",
              "3          Why did I chit chat with my old manager ?   \n",
              "4                       Why did I burst into tears ?   \n",
              "\n",
              "                                             answer0  \\\n",
              "0                        None of the above choices .   \n",
              "1  The company hiring the temp workers might have...   \n",
              "2                   My partner needed a medic unit .   \n",
              "3                    Because my flight was at 1:30 .   \n",
              "4                Because Ms. Mumma was informative .   \n",
              "\n",
              "                                             answer1  \\\n",
              "0  This person likes music and likes to see the s...   \n",
              "1  The temp agency hiring the temp workers might ...   \n",
              "2  Someone was running from the ambulances after ...   \n",
              "3  Because I left Seattle feeling really good and...   \n",
              "4  Because I had an intense emotional response to...   \n",
              "\n",
              "                                             answer2  \\\n",
              "0  This person only likes Good Old War and Person...   \n",
              "1                        None of the above choices .   \n",
              "2                        None of the above choices .   \n",
              "3             Because it 's my last day in Seattle .   \n",
              "4                    Because Mr. Dail was informed .   \n",
              "\n",
              "                                             answer3  label  \n",
              "0  Other Bands is not on tour and this person can...      1  \n",
              "1  I might have had a change of mind working for ...      0  \n",
              "2  Someone was running from the cops and got into...      3  \n",
              "3                   Because I enjoy talking to him .      3  \n",
              "4                   Because I fell out of my chair .      1  "
            ],
            "text/html": [
              "\n",
              "  <div id=\"df-4faaaa34-4981-429f-87d4-0e709a441924\">\n",
              "    <div class=\"colab-df-container\">\n",
              "      <div>\n",
              "<style scoped>\n",
              "    .dataframe tbody tr th:only-of-type {\n",
              "        vertical-align: middle;\n",
              "    }\n",
              "\n",
              "    .dataframe tbody tr th {\n",
              "        vertical-align: top;\n",
              "    }\n",
              "\n",
              "    .dataframe thead th {\n",
              "        text-align: right;\n",
              "    }\n",
              "</style>\n",
              "<table border=\"1\" class=\"dataframe\">\n",
              "  <thead>\n",
              "    <tr style=\"text-align: right;\">\n",
              "      <th></th>\n",
              "      <th>id</th>\n",
              "      <th>context</th>\n",
              "      <th>question</th>\n",
              "      <th>answer0</th>\n",
              "      <th>answer1</th>\n",
              "      <th>answer2</th>\n",
              "      <th>answer3</th>\n",
              "      <th>label</th>\n",
              "    </tr>\n",
              "  </thead>\n",
              "  <tbody>\n",
              "    <tr>\n",
              "      <th>0</th>\n",
              "      <td>3Q9SPIIRWJKVQ8244310E8TUS6YWAC##34V1S5K3GTZMDU...</td>\n",
              "      <td>Good Old War and person L : I saw both of thes...</td>\n",
              "      <td>In the future , will this person go to see oth...</td>\n",
              "      <td>None of the above choices .</td>\n",
              "      <td>This person likes music and likes to see the s...</td>\n",
              "      <td>This person only likes Good Old War and Person...</td>\n",
              "      <td>Other Bands is not on tour and this person can...</td>\n",
              "      <td>1</td>\n",
              "    </tr>\n",
              "    <tr>\n",
              "      <th>1</th>\n",
              "      <td>3E24UO25QZOMYXHZN4TEH9EMT9GO6L##3UN61F00HXNWYQ...</td>\n",
              "      <td>I mean it : not one person said ANYTHING to me...</td>\n",
              "      <td>Why might have the temp agency tell me I am no...</td>\n",
              "      <td>The company hiring the temp workers might have...</td>\n",
              "      <td>The temp agency hiring the temp workers might ...</td>\n",
              "      <td>None of the above choices .</td>\n",
              "      <td>I might have had a change of mind working for ...</td>\n",
              "      <td>0</td>\n",
              "    </tr>\n",
              "    <tr>\n",
              "      <th>2</th>\n",
              "      <td>3M4KL7H8KVL125AYH2V35D1E0A016T##3SB5N7Y3O426ET...</td>\n",
              "      <td>Leaving my shift Thursday day shift I arrived ...</td>\n",
              "      <td>What may have caused the radio to erupt with d...</td>\n",
              "      <td>My partner needed a medic unit .</td>\n",
              "      <td>Someone was running from the ambulances after ...</td>\n",
              "      <td>None of the above choices .</td>\n",
              "      <td>Someone was running from the cops and got into...</td>\n",
              "      <td>3</td>\n",
              "    </tr>\n",
              "    <tr>\n",
              "      <th>3</th>\n",
              "      <td>3D5G8J4N5CI2K40F4RZLF9OG2L4VTJ##34MAJL3QP721EU...</td>\n",
              "      <td>So , last day in Seattle , and my flight was a...</td>\n",
              "      <td>Why did I chit chat with my old manager ?</td>\n",
              "      <td>Because my flight was at 1:30 .</td>\n",
              "      <td>Because I left Seattle feeling really good and...</td>\n",
              "      <td>Because it 's my last day in Seattle .</td>\n",
              "      <td>Because I enjoy talking to him .</td>\n",
              "      <td>3</td>\n",
              "    </tr>\n",
              "    <tr>\n",
              "      <th>4</th>\n",
              "      <td>3MQKOF1EE428I44N8B42W7P86DKDW4##3NJM2BJS4ZLBGN...</td>\n",
              "      <td>Ms. Mumma informed Mr. Dail that evidence had ...</td>\n",
              "      <td>Why did I burst into tears ?</td>\n",
              "      <td>Because Ms. Mumma was informative .</td>\n",
              "      <td>Because I had an intense emotional response to...</td>\n",
              "      <td>Because Mr. Dail was informed .</td>\n",
              "      <td>Because I fell out of my chair .</td>\n",
              "      <td>1</td>\n",
              "    </tr>\n",
              "  </tbody>\n",
              "</table>\n",
              "</div>\n",
              "      <button class=\"colab-df-convert\" onclick=\"convertToInteractive('df-4faaaa34-4981-429f-87d4-0e709a441924')\"\n",
              "              title=\"Convert this dataframe to an interactive table.\"\n",
              "              style=\"display:none;\">\n",
              "        \n",
              "  <svg xmlns=\"http://www.w3.org/2000/svg\" height=\"24px\"viewBox=\"0 0 24 24\"\n",
              "       width=\"24px\">\n",
              "    <path d=\"M0 0h24v24H0V0z\" fill=\"none\"/>\n",
              "    <path d=\"M18.56 5.44l.94 2.06.94-2.06 2.06-.94-2.06-.94-.94-2.06-.94 2.06-2.06.94zm-11 1L8.5 8.5l.94-2.06 2.06-.94-2.06-.94L8.5 2.5l-.94 2.06-2.06.94zm10 10l.94 2.06.94-2.06 2.06-.94-2.06-.94-.94-2.06-.94 2.06-2.06.94z\"/><path d=\"M17.41 7.96l-1.37-1.37c-.4-.4-.92-.59-1.43-.59-.52 0-1.04.2-1.43.59L10.3 9.45l-7.72 7.72c-.78.78-.78 2.05 0 2.83L4 21.41c.39.39.9.59 1.41.59.51 0 1.02-.2 1.41-.59l7.78-7.78 2.81-2.81c.8-.78.8-2.07 0-2.86zM5.41 20L4 18.59l7.72-7.72 1.47 1.35L5.41 20z\"/>\n",
              "  </svg>\n",
              "      </button>\n",
              "      \n",
              "  <style>\n",
              "    .colab-df-container {\n",
              "      display:flex;\n",
              "      flex-wrap:wrap;\n",
              "      gap: 12px;\n",
              "    }\n",
              "\n",
              "    .colab-df-convert {\n",
              "      background-color: #E8F0FE;\n",
              "      border: none;\n",
              "      border-radius: 50%;\n",
              "      cursor: pointer;\n",
              "      display: none;\n",
              "      fill: #1967D2;\n",
              "      height: 32px;\n",
              "      padding: 0 0 0 0;\n",
              "      width: 32px;\n",
              "    }\n",
              "\n",
              "    .colab-df-convert:hover {\n",
              "      background-color: #E2EBFA;\n",
              "      box-shadow: 0px 1px 2px rgba(60, 64, 67, 0.3), 0px 1px 3px 1px rgba(60, 64, 67, 0.15);\n",
              "      fill: #174EA6;\n",
              "    }\n",
              "\n",
              "    [theme=dark] .colab-df-convert {\n",
              "      background-color: #3B4455;\n",
              "      fill: #D2E3FC;\n",
              "    }\n",
              "\n",
              "    [theme=dark] .colab-df-convert:hover {\n",
              "      background-color: #434B5C;\n",
              "      box-shadow: 0px 1px 3px 1px rgba(0, 0, 0, 0.15);\n",
              "      filter: drop-shadow(0px 1px 2px rgba(0, 0, 0, 0.3));\n",
              "      fill: #FFFFFF;\n",
              "    }\n",
              "  </style>\n",
              "\n",
              "      <script>\n",
              "        const buttonEl =\n",
              "          document.querySelector('#df-4faaaa34-4981-429f-87d4-0e709a441924 button.colab-df-convert');\n",
              "        buttonEl.style.display =\n",
              "          google.colab.kernel.accessAllowed ? 'block' : 'none';\n",
              "\n",
              "        async function convertToInteractive(key) {\n",
              "          const element = document.querySelector('#df-4faaaa34-4981-429f-87d4-0e709a441924');\n",
              "          const dataTable =\n",
              "            await google.colab.kernel.invokeFunction('convertToInteractive',\n",
              "                                                     [key], {});\n",
              "          if (!dataTable) return;\n",
              "\n",
              "          const docLinkHtml = 'Like what you see? Visit the ' +\n",
              "            '<a target=\"_blank\" href=https://colab.research.google.com/notebooks/data_table.ipynb>data table notebook</a>'\n",
              "            + ' to learn more about interactive tables.';\n",
              "          element.innerHTML = '';\n",
              "          dataTable['output_type'] = 'display_data';\n",
              "          await google.colab.output.renderOutput(dataTable, element);\n",
              "          const docLink = document.createElement('div');\n",
              "          docLink.innerHTML = docLinkHtml;\n",
              "          element.appendChild(docLink);\n",
              "        }\n",
              "      </script>\n",
              "    </div>\n",
              "  </div>\n",
              "  "
            ]
          },
          "metadata": {},
          "execution_count": 21
        }
      ]
    },
    {
      "cell_type": "code",
      "source": [
        "df['context_ru'] = (df.iloc[:10, :])['context'].progress_apply(np.vectorize(translate))"
      ],
      "metadata": {
        "colab": {
          "base_uri": "https://localhost:8080/"
        },
        "id": "34THmC_opfeU",
        "outputId": "f1cfe505-52e3-4d00-c26e-3193c94a4db5"
      },
      "execution_count": 25,
      "outputs": [
        {
          "output_type": "stream",
          "name": "stderr",
          "text": [
            "100%|██████████| 10/10 [00:18<00:00,  1.81s/it]\n"
          ]
        }
      ]
    },
    {
      "cell_type": "code",
      "source": [
        "for key, row in df[:10].iterrows():\n",
        "  print(f\"eng: {row['context']}\\nrus: {row['context_ru']}\\n\")"
      ],
      "metadata": {
        "colab": {
          "base_uri": "https://localhost:8080/"
        },
        "id": "j-bqlzact2i6",
        "outputId": "601442b3-4d5d-4534-ae25-272a3fb064bc"
      },
      "execution_count": 40,
      "outputs": [
        {
          "output_type": "stream",
          "name": "stdout",
          "text": [
            "eng: Good Old War and person L : I saw both of these bands Wednesday night , and they both blew me away . seriously . Good Old War is acoustic and makes me smile . I really can not help but be happy when I listen to them ; I think it 's the fact that they seemed so happy themselves when they played .\n",
            "rus: \"Добрая старая война и человек L\": Я видела обе группы в среду вечером, и они оба сбили меня с толку. \"Хорошая Старая Война\" - это акустика и заставляет меня улыбаться. Я действительно не могу помочь, но быть счастливой, когда я слушаю их; я думаю, что это тот факт, что они казались такими счастливыми, когда играли.\n",
            "\n",
            "eng: I mean it : not one person said ANYTHING to me . They would have if I did something wrong , right ? But , this morning , I got a call from my guy at the temp agency and he said that I was no longer needed in that position , that I did n't need to go out there .\n",
            "rus: Я имею в виду, что ни один человек не сказал мне ничего, если бы я сделал что-то не так, но сегодня утром мне позвонил мой парень из временного агентства, и он сказал, что я больше не нужен в этом положении, что мне не нужно идти туда.\n",
            "\n",
            "eng: Leaving my shift Thursday day shift I arrived the same time as my partner just after six that evening and before long the radio erupted in dispatch tones . A car fleeing the police has crashed and landed on its roof with four separate people entrapped inside . Our medic unit is dispatched along with multiple other ambulances and Rescue Companies .\n",
            "rus: Покинув мою смену в четверг, я прибыл в то же время, что и мой напарник, сразу после шести вечера, и вскоре радио вспыхнуло в диспетчерских тонах. Автомобиль, бежавший из полиции, разбился и приземлился на крыше с четырьмя отдельными людьми, запертыми внутри. Наше медицинское подразделение направляется вместе с несколькими другими машинами скорой помощи и спасательными компаниями.\n",
            "\n",
            "eng: So , last day in Seattle , and my flight was at 1:30 . I got to chit chat with my old manager ( more like a mentor ) , and left Seattle feeling really good and inspired . .\n",
            "rus: Итак, последний день в Сиэтле, и мой рейс был в 1:30, я поболтал со своим старым менеджером (больше как наставник) и покинул Сиэтл, чувствуя себя очень хорошо и вдохновлённым.\n",
            "\n",
            "eng: Ms. Mumma informed Mr. Dail that evidence had been found in his case . \" I fell out of my chair and burst into tears . Evidence meant I was going home , and I knew that , \" said Mr. Dail . He immediately told Ms. Mumma , \" Test anything and everything you can find .\n",
            "rus: Г-жа Мамма сообщила г-ну Дейлу, что в его деле были найдены доказательства.\n",
            "\n",
            "eng: A while later I tried the car again and lo and behold it does n't start at all , so a tow truck was called , and I chatted with Ellen ( who was n't in class after all ) while I waited . My dad came and got me from the body shop . The End . ( Where the hell did my freaking cow go ?\n",
            "rus: Некоторое время спустя я снова попробовал машину, и вот она вообще не начинается, так что был назван эвакуатор, и я разговаривал с Эллен (которую в конце концов не было в классе), пока я ждал.\n",
            "\n",
            "eng: Until we went to a playdate two weeks ago . Thea 's mom is Serbian and crepes are apparently as common in Serbia as they are in France . We discussed the batter , the texture , the cooking process , the topping options and Dee generally brought me up to speed . Being not brave enough to just start throwing ingredients in a bowl as she did , I got a recipe of the internet for general proportions , ended up not using nearly as much water as was called for and successfully made crepes .\n",
            "rus: До того, как мы пришли на игровую дату две недели назад, мама Теи сербка, и блинчики, очевидно, так же распространены в Сербии, как и во Франции, мы обсуждали бейтер, текстуру, процесс приготовления пищи, опционы и Ди, как правило, вывели меня на скорость. будучи недостаточно смелым, чтобы просто начать бросать ингредиенты в миску, как она, я получил рецепт интернета для общих пропорций, в итоге, я не использовал почти столько воды, сколько требовалось, и успешно сделал блинги.\n",
            "\n",
            "eng: Let me be clear , everything is good . Having said that , I ' ve been a little preoccupied lately , as Leslie threw out her back on Sunday . It 's been an interesting , and marriage - solidifying 36 hours . Sunday afternoon , around 2 pm , Leslie and I were hanging in the library , sans kids ( they were with their father ) , listening to music and talking .\n",
            "rus: Позволь мне прояснить, все хорошо, сказав, что в последнее время я был немного занят, когда Лесли выкинула ее обратно в воскресенье, это было интересно, и брак укрепляет 36 часов в воскресенье, около 14 вечера, мы с Лесли висели в библиотеке, дети Сэнс (они были с отцом), слушали музыку и болтали.\n",
            "\n",
            "eng: WHAT could be in the package ? Something PORNOGRAPHIC , that 's for sure ! I rushed into the house and went to the laundry room , closed the door and pulled the package out of the magazine . I flipped it over , and reread the words on the side . Contains PHOTOGRAPHIC material . Damn .\n",
            "rus: Что может быть в пакете, что-то ПОРНОГРАФИЧ, это точно, я бросился в дом и пошёл в прачечную, закрыл дверь и вытащил пакет из журнала, перевернул его и перечитал слова сбоку.\n",
            "\n",
            "eng: WHAT could be in the package ? Something PORNOGRAPHIC , that 's for sure ! I rushed into the house and went to the laundry room , closed the door and pulled the package out of the magazine . I flipped it over , and reread the words on the side . Contains PHOTOGRAPHIC material . Damn .\n",
            "rus: Что может быть в пакете, что-то ПОРНОГРАФИЧ, это точно, я бросился в дом и пошёл в прачечную, закрыл дверь и вытащил пакет из журнала, перевернул его и перечитал слова сбоку.\n",
            "\n"
          ]
        }
      ]
    },
    {
      "cell_type": "markdown",
      "source": [
        "## Попробуем реализовать метод поиска ближайших статей из датасета **gazeta.csv.gz**\n"
      ],
      "metadata": {
        "id": "rY0OLr-qu34q"
      }
    },
    {
      "cell_type": "code",
      "source": [
        "!wget -O gazeta.csv.gz -qq --no-check-certificate https://github.com/ods-ai-ml4sg/proj_news_viz/releases/download/data/gazeta.csv.gz"
      ],
      "metadata": {
        "id": "XqB0mzZyvNn0"
      },
      "execution_count": 42,
      "outputs": []
    },
    {
      "cell_type": "code",
      "source": [
        "from corus import load_ods_gazeta\n",
        "\n",
        "records = load_ods_gazeta('gazeta.csv.gz')\n",
        "next(records)"
      ],
      "metadata": {
        "colab": {
          "base_uri": "https://localhost:8080/"
        },
        "id": "Wv6f86qjvXTj",
        "outputId": "29ca24ba-583d-467d-f0a3-9f52db411736"
      },
      "execution_count": 44,
      "outputs": [
        {
          "output_type": "execute_result",
          "data": {
            "text/plain": [
              "NewsRecord(\n",
              "    timestamp=datetime.datetime(2008, 11, 21, 15, 19, 14),\n",
              "    url='https://www.gazeta.ru/news/business/2008/11/21/n_1298950.shtml',\n",
              "    edition=None,\n",
              "    topics='Бизнес',\n",
              "    authors=None,\n",
              "    title='Госдума сокращает срок действия ставки экспортных пошлин на нефть',\n",
              "    text='Госдума приняла сегодня в первом чтении и сразу в целом поправки в закон «О таможенном тарифе», сокращающие срок действия ставки экспортных пошлин на нефть с 2-х до 1-го месяца.nnДля установления средних цен на нефть марки Urals и расчета экспортных пошлин правительство России в течение двух месяцев проводит мониторинг на международных рынках нефтяного сырья (средиземноморском и роттердамском), экспортные пошлины на нефть устанавливаются также раз в два месяца.nnСокращение на месяц периода мониторинга (с 15-го числа каждого календарного месяца по 14-е число следующего месяца) и соответственно срока действия ставок экспортных пошлин «позволит более оперативно реагировать на изменения экономической ситуации в стране и сэкономить нефтяникам миллиарды рублей», считают разработчики. Экспортные ставки будут вводиться с 1 числа календарного месяца, следующего за окончанием периода мониторинга.',\n",
              "    stats=Stats(\n",
              "        fb=None,\n",
              "        vk=None,\n",
              "        ok=None,\n",
              "        twitter=None,\n",
              "        lj=None,\n",
              "        tg=None,\n",
              "        likes=None,\n",
              "        views=None,\n",
              "        comments=None\n",
              "    )\n",
              ")"
            ]
          },
          "metadata": {},
          "execution_count": 44
        }
      ]
    },
    {
      "cell_type": "code",
      "source": [
        "df = pd.DataFrame(records)\n",
        "df.head()"
      ],
      "metadata": {
        "colab": {
          "base_uri": "https://localhost:8080/",
          "height": 617
        },
        "id": "vA5PeU7Cvuki",
        "outputId": "bcc0a445-f789-4ea2-efa5-b4242b6227e1"
      },
      "execution_count": 45,
      "outputs": [
        {
          "output_type": "execute_result",
          "data": {
            "text/plain": [
              "                    0                                                  1  \\\n",
              "0 2012-09-27 10:54:51  https://www.gazeta.ru/science/news/2012/09/27/...   \n",
              "1 2015-12-01 15:28:45      https://www.gazeta.ru/army/news/7957079.shtml   \n",
              "2 2013-04-18 16:42:06  https://www.gazeta.ru/travel/news/2013/04/18/n...   \n",
              "3 2012-09-26 13:54:13  https://www.gazeta.ru/politics/news/2012/09/26...   \n",
              "4 2012-09-26 21:11:33  https://www.gazeta.ru/culture/news/2012/09/26/...   \n",
              "\n",
              "      2         3     4                                                  5  \\\n",
              "0  None     Наука  None   Японские физики повторили синтез 113-го элемента   \n",
              "1  None     Армия  None        Times: Россия строит новую авиабазу в Сирии   \n",
              "2  None   Новости  None  Власти Египта гарантируют безопасность российс...   \n",
              "3  None  Политика  None  Гордума Новочеркасска приняла отставку мэра го...   \n",
              "4  None  Культура  None  Министерство культуры назвало фильмы, на котор...   \n",
              "\n",
              "                                                   6  \\\n",
              "0  Японские ученые из физического центра RIKEN за...   \n",
              "1  Россия готовится расширить свою военную операц...   \n",
              "2  Египет ждет российских туристов и гарантирует ...   \n",
              "3  В Ростовской области депутаты гордумы Новочерк...   \n",
              "4  Министерство культуры России определило перече...   \n",
              "\n",
              "                                                   7  \n",
              "0  Stats(fb=None, vk=None, ok=None, twitter=None,...  \n",
              "1  Stats(fb=None, vk=None, ok=None, twitter=None,...  \n",
              "2  Stats(fb=None, vk=None, ok=None, twitter=None,...  \n",
              "3  Stats(fb=None, vk=None, ok=None, twitter=None,...  \n",
              "4  Stats(fb=None, vk=None, ok=None, twitter=None,...  "
            ],
            "text/html": [
              "\n",
              "  <div id=\"df-7c1e3876-37a2-42ec-8890-4c74118f5669\">\n",
              "    <div class=\"colab-df-container\">\n",
              "      <div>\n",
              "<style scoped>\n",
              "    .dataframe tbody tr th:only-of-type {\n",
              "        vertical-align: middle;\n",
              "    }\n",
              "\n",
              "    .dataframe tbody tr th {\n",
              "        vertical-align: top;\n",
              "    }\n",
              "\n",
              "    .dataframe thead th {\n",
              "        text-align: right;\n",
              "    }\n",
              "</style>\n",
              "<table border=\"1\" class=\"dataframe\">\n",
              "  <thead>\n",
              "    <tr style=\"text-align: right;\">\n",
              "      <th></th>\n",
              "      <th>0</th>\n",
              "      <th>1</th>\n",
              "      <th>2</th>\n",
              "      <th>3</th>\n",
              "      <th>4</th>\n",
              "      <th>5</th>\n",
              "      <th>6</th>\n",
              "      <th>7</th>\n",
              "    </tr>\n",
              "  </thead>\n",
              "  <tbody>\n",
              "    <tr>\n",
              "      <th>0</th>\n",
              "      <td>2012-09-27 10:54:51</td>\n",
              "      <td>https://www.gazeta.ru/science/news/2012/09/27/...</td>\n",
              "      <td>None</td>\n",
              "      <td>Наука</td>\n",
              "      <td>None</td>\n",
              "      <td>Японские физики повторили синтез 113-го элемента</td>\n",
              "      <td>Японские ученые из физического центра RIKEN за...</td>\n",
              "      <td>Stats(fb=None, vk=None, ok=None, twitter=None,...</td>\n",
              "    </tr>\n",
              "    <tr>\n",
              "      <th>1</th>\n",
              "      <td>2015-12-01 15:28:45</td>\n",
              "      <td>https://www.gazeta.ru/army/news/7957079.shtml</td>\n",
              "      <td>None</td>\n",
              "      <td>Армия</td>\n",
              "      <td>None</td>\n",
              "      <td>Times: Россия строит новую авиабазу в Сирии</td>\n",
              "      <td>Россия готовится расширить свою военную операц...</td>\n",
              "      <td>Stats(fb=None, vk=None, ok=None, twitter=None,...</td>\n",
              "    </tr>\n",
              "    <tr>\n",
              "      <th>2</th>\n",
              "      <td>2013-04-18 16:42:06</td>\n",
              "      <td>https://www.gazeta.ru/travel/news/2013/04/18/n...</td>\n",
              "      <td>None</td>\n",
              "      <td>Новости</td>\n",
              "      <td>None</td>\n",
              "      <td>Власти Египта гарантируют безопасность российс...</td>\n",
              "      <td>Египет ждет российских туристов и гарантирует ...</td>\n",
              "      <td>Stats(fb=None, vk=None, ok=None, twitter=None,...</td>\n",
              "    </tr>\n",
              "    <tr>\n",
              "      <th>3</th>\n",
              "      <td>2012-09-26 13:54:13</td>\n",
              "      <td>https://www.gazeta.ru/politics/news/2012/09/26...</td>\n",
              "      <td>None</td>\n",
              "      <td>Политика</td>\n",
              "      <td>None</td>\n",
              "      <td>Гордума Новочеркасска приняла отставку мэра го...</td>\n",
              "      <td>В Ростовской области депутаты гордумы Новочерк...</td>\n",
              "      <td>Stats(fb=None, vk=None, ok=None, twitter=None,...</td>\n",
              "    </tr>\n",
              "    <tr>\n",
              "      <th>4</th>\n",
              "      <td>2012-09-26 21:11:33</td>\n",
              "      <td>https://www.gazeta.ru/culture/news/2012/09/26/...</td>\n",
              "      <td>None</td>\n",
              "      <td>Культура</td>\n",
              "      <td>None</td>\n",
              "      <td>Министерство культуры назвало фильмы, на котор...</td>\n",
              "      <td>Министерство культуры России определило перече...</td>\n",
              "      <td>Stats(fb=None, vk=None, ok=None, twitter=None,...</td>\n",
              "    </tr>\n",
              "  </tbody>\n",
              "</table>\n",
              "</div>\n",
              "      <button class=\"colab-df-convert\" onclick=\"convertToInteractive('df-7c1e3876-37a2-42ec-8890-4c74118f5669')\"\n",
              "              title=\"Convert this dataframe to an interactive table.\"\n",
              "              style=\"display:none;\">\n",
              "        \n",
              "  <svg xmlns=\"http://www.w3.org/2000/svg\" height=\"24px\"viewBox=\"0 0 24 24\"\n",
              "       width=\"24px\">\n",
              "    <path d=\"M0 0h24v24H0V0z\" fill=\"none\"/>\n",
              "    <path d=\"M18.56 5.44l.94 2.06.94-2.06 2.06-.94-2.06-.94-.94-2.06-.94 2.06-2.06.94zm-11 1L8.5 8.5l.94-2.06 2.06-.94-2.06-.94L8.5 2.5l-.94 2.06-2.06.94zm10 10l.94 2.06.94-2.06 2.06-.94-2.06-.94-.94-2.06-.94 2.06-2.06.94z\"/><path d=\"M17.41 7.96l-1.37-1.37c-.4-.4-.92-.59-1.43-.59-.52 0-1.04.2-1.43.59L10.3 9.45l-7.72 7.72c-.78.78-.78 2.05 0 2.83L4 21.41c.39.39.9.59 1.41.59.51 0 1.02-.2 1.41-.59l7.78-7.78 2.81-2.81c.8-.78.8-2.07 0-2.86zM5.41 20L4 18.59l7.72-7.72 1.47 1.35L5.41 20z\"/>\n",
              "  </svg>\n",
              "      </button>\n",
              "      \n",
              "  <style>\n",
              "    .colab-df-container {\n",
              "      display:flex;\n",
              "      flex-wrap:wrap;\n",
              "      gap: 12px;\n",
              "    }\n",
              "\n",
              "    .colab-df-convert {\n",
              "      background-color: #E8F0FE;\n",
              "      border: none;\n",
              "      border-radius: 50%;\n",
              "      cursor: pointer;\n",
              "      display: none;\n",
              "      fill: #1967D2;\n",
              "      height: 32px;\n",
              "      padding: 0 0 0 0;\n",
              "      width: 32px;\n",
              "    }\n",
              "\n",
              "    .colab-df-convert:hover {\n",
              "      background-color: #E2EBFA;\n",
              "      box-shadow: 0px 1px 2px rgba(60, 64, 67, 0.3), 0px 1px 3px 1px rgba(60, 64, 67, 0.15);\n",
              "      fill: #174EA6;\n",
              "    }\n",
              "\n",
              "    [theme=dark] .colab-df-convert {\n",
              "      background-color: #3B4455;\n",
              "      fill: #D2E3FC;\n",
              "    }\n",
              "\n",
              "    [theme=dark] .colab-df-convert:hover {\n",
              "      background-color: #434B5C;\n",
              "      box-shadow: 0px 1px 3px 1px rgba(0, 0, 0, 0.15);\n",
              "      filter: drop-shadow(0px 1px 2px rgba(0, 0, 0, 0.3));\n",
              "      fill: #FFFFFF;\n",
              "    }\n",
              "  </style>\n",
              "\n",
              "      <script>\n",
              "        const buttonEl =\n",
              "          document.querySelector('#df-7c1e3876-37a2-42ec-8890-4c74118f5669 button.colab-df-convert');\n",
              "        buttonEl.style.display =\n",
              "          google.colab.kernel.accessAllowed ? 'block' : 'none';\n",
              "\n",
              "        async function convertToInteractive(key) {\n",
              "          const element = document.querySelector('#df-7c1e3876-37a2-42ec-8890-4c74118f5669');\n",
              "          const dataTable =\n",
              "            await google.colab.kernel.invokeFunction('convertToInteractive',\n",
              "                                                     [key], {});\n",
              "          if (!dataTable) return;\n",
              "\n",
              "          const docLinkHtml = 'Like what you see? Visit the ' +\n",
              "            '<a target=\"_blank\" href=https://colab.research.google.com/notebooks/data_table.ipynb>data table notebook</a>'\n",
              "            + ' to learn more about interactive tables.';\n",
              "          element.innerHTML = '';\n",
              "          dataTable['output_type'] = 'display_data';\n",
              "          await google.colab.output.renderOutput(dataTable, element);\n",
              "          const docLink = document.createElement('div');\n",
              "          docLink.innerHTML = docLinkHtml;\n",
              "          element.appendChild(docLink);\n",
              "        }\n",
              "      </script>\n",
              "    </div>\n",
              "  </div>\n",
              "  "
            ]
          },
          "metadata": {},
          "execution_count": 45
        }
      ]
    },
    {
      "cell_type": "code",
      "source": [
        "for idx in range(2):\n",
        "  print(idx)"
      ],
      "metadata": {
        "colab": {
          "base_uri": "https://localhost:8080/"
        },
        "id": "P64k8i29AmPx",
        "outputId": "7c247a73-0e8a-4c3d-cf0c-32f1ad644ab2"
      },
      "execution_count": 125,
      "outputs": [
        {
          "output_type": "stream",
          "name": "stdout",
          "text": [
            "0\n",
            "1\n"
          ]
        }
      ]
    },
    {
      "cell_type": "code",
      "source": [
        "from sentence_transformers import SentenceTransformer, util\n",
        "\n",
        "model_name = \"clips/mfaq\"\n",
        "\n",
        "model = SentenceTransformer(model_name)\n",
        "\n",
        "sentences = df[6][:1000]\n",
        "\n",
        "for idx in range(2):\n",
        "  print(\"=\"*10)\n",
        "  print(f\"Generate {idx + 1}\")\n",
        "  print(\"=\"*10)\n",
        "\n",
        "  embeddings = model.encode(df[6][:1000], convert_to_tensor=True).to(DEVICE)\n",
        "  sentence = rnd_df(df, 1000, 6)\n",
        "  \n",
        "  cos_scores, top_results = similar(embeddings, sentence, 5)\n",
        "\n",
        "  for top in sentences[top_results.tolist()]:\n",
        "    print(f\"{top}\\n\")"
      ],
      "metadata": {
        "colab": {
          "base_uri": "https://localhost:8080/"
        },
        "id": "KYbXKSHTwNjz",
        "outputId": "67a2b95f-cf0d-41ef-df50-4acfb2905db4"
      },
      "execution_count": 126,
      "outputs": [
        {
          "output_type": "stream",
          "name": "stderr",
          "text": [
            "/usr/local/lib/python3.7/dist-packages/transformers/configuration_utils.py:364: UserWarning: Passing `gradient_checkpointing` to a config initialization is deprecated and will be removed in v5 Transformers. Using `model.gradient_checkpointing_enable()` instead, or if you are using the `Trainer` API, pass `gradient_checkpointing=True` in your `TrainingArguments`.\n",
            "  \"Passing `gradient_checkpointing` to a config initialization is deprecated and will be removed in v5 \"\n"
          ]
        },
        {
          "output_type": "stream",
          "name": "stdout",
          "text": [
            "==========\n",
            "Generate 1\n",
            "==========\n",
            "В школу №263 в столичном районе Отрадное ворвался старшеклассник с винтовкой. Подросток убил учителя и полицейского, после чего взял в заложники детей. К месту происшествия стянуты силы полиции. Cтрелка-школьника уже задержали и передали следователям. Правоохранители сообщают, что это отличник с хорошими характеристиками, который хотел отомстить учителю географии. «Газета.Ru» ведет онлайн-трансляцию из Отрадного.nn«Газета.Ru» завершает онлайн-трансляцию. В ближайшее время читайте материал корреспондента «Газеты.Ru» Максима Солопова, который работал на месте происшествия.nnnУ погибшего при исполнении своих обязанностей старшего сержанта 38-летнего Сергея Бушуева остались жена и дочь, сообщает пресс-служба ГУ МВД России по Москве. В органах внутренних дел работал с 1994 года. Руководство и личный состав столичного главка выражают глубокие соболезнования и обещают его семье оказать необходимую помощь.nnПресс-секретарь президента Дмитрий Песков сообщил в эфире «Русской службы новостей», что Владимир Путин в курсе стрельбы в школе №263.nnКомитет Госдумы по образованию будет обсуждать меры безопасности в российских школах 6 февраля. Об этом сообщает член комитета, экс-глава Рособразования Григорий Балыхин.nА заместитель председателя комитета Госдумы по безопасности и противодействию коррупции Александр Хинштейн предлагает устанавливать в школах рамки металлоискателей и сменить школьную охрану. По его словам, «сегодня абсолютное большинство школ как в Москве, так и в других городах России охраняются сотрудниками частных охранных предприятий, которые зачастую не вооружены, многие относятся к своим обязанностям халатно, воспринимая свою работу как подработку к пенсии».nnЕго одноклассники рассказывают, что он шел на золотую медаль, но был необщительным. Они предположили, что конфликт мог быть из-за получения медали, передает РИА «Новости». При этом, по их словам, застреленный учитель географии был справедлив при распределении оценок.nnВ прошлом месяце Сергей Гордеев, ворвавшийся сегодня в школу №263 с оружием, вошел в десятку призеров интернет-олимпиады «20 лет правового государства в России».nnСледователи приступили к допросам стрелка и очевидцев, сообщает Следственный комитет. Задержанному ученику назначена психолого-психиатрическая экспертиза, в ближайшее время следователи будут решать вопрос об избрании в отношении него меры пресечения.nКак отмечает ведомство, убитому учителю географии Андрею Кириллову было 29 лет. Известны также имена полицейских, первыми прибывших на место происшествия. Это прапорщик Сергей Бушуев (был убит на месте) и старший сержант Владимир Крохин, который был ранен.nnСенаторы уже отреагировали на инцидент в школе №263. Глава комитета по социальной политике, сенатор Валерий Рязанский заявил, что причиной нападения старшеклассника могли стать компьютерные игры. «В целом если посмотреть на наше общество, то, конечно, элемент ужесточения в нем присутствует, и этому способствуют огромное количество разных компьютерных игр со сценами насилия и жестокости, сериалы, которые демонстрируются по федеральным каналам, где происходят бесчисленные убийства. Поэтому нужно предпринять шаги, которые бы уменьшили доступ детей к такого рода сценам», — цитирует его «Интерфакс».nПо его мнению, это семья подростка не усмотрела за своим сыном. «Мне трудно вспомнить, чтобы что-то подобное происходило ранее. Мы не Америка, где практически ежедневно происходит стрельба в школе. Наверное, этот подросток насмотрелся американских сюжетов и переложил свои неприятности на почву мести», — считает Рязанский.nnПосле инцидента в школе №263 мэр Москвы Сергей Собянин потребовал провести проверку безопасности в школах города и принять дополнительные меры по ее усилению. «Созданы системы видеонаблюдения, охраны, которые финансируются городом, тем не менее, видимо, этих мер недостаточно, — цитирует мэра РИА «Новости». — Поэтому я принял решение провести полную ревизию, как работают системы безопасности в школах, и принять дополнительные меры».nПо его словам, в самой школе №263 будет проведено служебное расследование.nnМинистр образования Дмитрий Ливанов сообщил журналистам, что с завтрашнего дня школа будет работать в штатном режиме. С учениками в данное время работают психологи. По его словам, у стрелка не было конфликтов ни с учениками, ни с учителями в школе.nnМать одного из десятиклассников, который стал очевидцем событий, созвонилась с сыном, все еще находящимся в школе. Она рассказала корреспонденту «Газеты.Ru» о том, что поведал ее сын.nПо словам очевидца, Гордеев зашел в кабинет, выстрелил в учителя географии Кириллова Андрея Николаевича несколько раз. Когда он увидел, что тот еще дышит, подошел к нему и добил его.nnnЗатем он наставил ружье на учеников и сказал: «Я не хочу никого из вас убивать». Ученики закричали: «Что ты сделал? Ты сошел с ума?» Гордеев ответил: «Я очень боюсь смерти. Я хотел посмотреть, как она выглядит». Когда появились полицейские, он начал в них стрелять.nnПо предварительным данным, у старшеклассника, проникшего в московскую школу №263, было при себе две винтовки, сообщили в пресс-центре МВД России. Между тем, как сообщил «Интерфаксу» источник в правоохранительных органах, действия школьника стали местью учителю географии, с которым у него был конфликт.nnСтаршеклассника, который ворвался с оружием в школу, помог задержать его отец, сообщает «Интерфакс» со ссылкой на Анатолия Якунина.nnВ школах Санкт-Петербурга могут усилить меры безопасности в связи с вооруженным захватом заложников в московской школе №263. «Ситуация будет проанализирована: как такое могло произойти, как ученик с оружием смог пробраться в школу, несмотря на наличие охранника. Сделаем для себя выводы и в случае необходимости будем поднимать вопрос об усилении мер безопасности в школах», — сказал «Интерфаксу» представитель петербургской прокуратуры.nnГлава столичной полиции Анатолий Якунин и официальный представитель СК Владимир Маркин дали официальный комментарий, передает корреспондент «Газеты.Ru». Они подтвердили, что стрелок — ученик 10-го класса Сергей Гордеев. По их словам, он характеризовался всегда положительно, отличник.nМотив его поступка пока неизвестен. По предварительной информации, это был эмоциональный срыв.nnnПо их словам, Гордеев вошел в школу с мелкокалиберной винтовкой, принадлежащей его отцу. Он наставил оружие на охранника, ранил его, но тот успел нажать на тревожную кнопку. Затем ученик прошел в кабинет географии и выстрелил в учителя. Как сообщил Якунин, сотрудники полиции прибыли через четыре минуты, попытались войти в класс. Один из них был ранен, второй убит.nnnГруппа полиции, которая прибыла на место происшествия следом, нейтрализовала и задержала старшеклассника.nn«Первая скорая помощь прибыла на место в 11.59. Всего работало 15 бригад экстренной медицинской помощи, — сказала «Газете.Ru» пресс-секретарь департамента здравоохранения Москвы Эллина Николаева. — Стрельбу устроил девятиклассник, который пришел с ружьем на урок географии. Убит 29-летний учитель географии. Второй убитый — сотрудник полиции».nПо ее словам, второй полицейский получил ранения в грудь и в живот. Вертолетом Центра экстренной медицинской помощи он доставлен в институт имени Склифосовского.nnИз школы заканчивают выводить детей, которых встречают родители. Полицейские расталкивают журналистов, чтобы освободить для них проход. Женщины со слезами на глазах обнимают своих детей, комментариев прессе не дают, передает корреспондент «Газеты.Ru». По словам матери одного из учеников, в здании остались только первоклашки, так как на момент происшествия они находились в классе физкультуры на первом этаже.nnСотрудник правоохранительных органов объяснил родителям, которые собрались возле школы, что внутри все еще остаются три класса, передает корреспондент «Газеты.Ru». Он пояснил, что это класс 1 «а», 6 «б» и 10 «а». «Они находятся в безопасности», — заверил сотрудник.nnnПричиной инцидента в московской школе №263 могла стать конфликтная ситуация в учебном заведении. «Старшеклассник, ворвавшийся в учебное заведение с оружием, пошел на этот шаг предположительно из-за конфликта в школе», — сообщил «Интерфаксу» источник в правоохранительных органах.nnСледственный комитет возбудил уголовное дело по трем статьям: 206, 105, 317 УК (захват заложников, убийство, посягательство на жизнь сотрудников правоохранительных органов).n«По версии следствия, сегодня около полудня старшеклассник школы №263 пришел в школу с ружьем. Охранник пытался не пропустить его, однако ученик передернул затвор. Охранник успел нажать тревожную кнопку, после этого довел юношу до кабинета биологии, где находились ученики 10-го класса. По пути следования стрелок ранил одного из учителей, который позднее скончался. На вызов школьного охранника приехали сотрудники полиции. Когда полицейские вошли в школу, стрелок открыл стрельбу в их сторону, ранив одного из них и убив второго», — сообщает пресс-служба СК.nnnНа место происшествия прибыл председатель Следственного комитета России Александр Бастрыкин.nnВ сообществе школы в социальной сети «ВКонтакте» пишут, что захват заложников устроил ученик 9-го класса.nnНа место происшествия прибыл официальный представитель Следственного комитета России Владимир Маркин, который зашел внутрь школы, передает корреспондент «Газеты.Ru».nnСтаршеклассник, который проник в школу №263 с оружием, задержан и передан следователям, сообщает «Интерфакс» со ссылкой на пресс-центр МВД.nnКак передает корреспондент «Газеты.Ru», только что с площадки рядом со школой взлетел вертолет МЧС.nnnКорреспондент «Газеты.Ru» Максим Солопов с места происшествия передает, что полиция продолжает выводить детей из школы большими группами. Возле школы есть представители всех служб, в частности МЧС, МВД и Следственного комитета. Их представители категорически не дают комментариев. «Судя по всему, если и была какая-то операция полиции, то она уже закончилась», — сказал корреспондент.nn«Все дети и учителя из других классов были оперативно эвакуированы сотрудниками полиции. Никто из них не пострадал», — сказал официальный представитель МВД РФ Андрей Пилипчук, находящийся на месте происшествия.nПилипчук рассказал, что в полицию поступил сигнал о том, что в школе №263 в одном из старших классов находится вооруженный человек. В это время в классе находились 20 учащихся и учитель. «В настоящее время на месте находится министр внутренних дел РФ — генерал-полковник полиции Владимир Колокольцев, а также туда стянуты дополнительные наряды полиции», — цитирует его «Интерфакс».nnnГоворя об обстоятельствах произошедшего, Пилипчук сообщил, что сначала был вызван один наряд полиции, который прибыл на место по сигналу охраны школы. «Соответственно, правонарушитель обстрелял наряд полиции, и в результате один сотрудник получил ранение, а в последующем также был ранен еще один сотрудник», — заявил он. По его словам, раненые сотрудники полиции были эвакуированы на вертолете МЧС с места происшествия.nnПо новым данным, погибших двое — один полицейский и один учитель. Еще один сотрудник полиции получил ранение.nnПо последним данным, стрелком оказался один из учеников. Известно, что он проник в класс биологии. Большая часть детей эвакуирована из школы. Преступник нейтрализован, сообщили в МВД.nnК школе №263 выехал министр внутренних дел Владимир Колокольцев.nnВооруженный мужчина находится в одном из старших классов, сообщает «Интерфакс» со ссылкой на МВД. По их данным, в заложниках могут находиться более 20 учащихся и их учитель.nnНачальник пресс-службы ГУ МЧС России по Москве Виктор Бирюков сообщил «Газете.Ru», что на место происшествия прибыл вертолет МЧС. «Однако пока наши силы и средства не задействованы. В случае необходимости мы готовы оказать помощь полиции, в том числе в решении вопросов, относящихся к нашей компетенции», — заявил Бирюков.nnВ Северо-Восточном окружном управлении образования «Газете.Ru» подтвердили информацию о стрельбе в школе, однако какие-либо комментарии дать отказались. Сообщили, что все руководство управления, в том числе начальник управления Павел Кузьмин, работает на месте.nnНа место происшествия выехали сотрудники столичного и федерального МВД.nnВ школу №263 в столичном районе Отрадное ворвался неизвестный мужчина с винтовкой. «Единственное, что сейчас известно: в школу пришел мужчина с винтовкой и выстрелил в сотрудника ЧОПа. Но даже эта информация пока предварительная. Больше ничего нового сказать не можем. Все сотрудники полиции выехали к месту происшествия», — сказали «Газете.Ru» в пресс-службе ГУ МВД по Северо-Восточному административному округу.n\n",
            "\n",
            "Двое неизвестных, вооруженных ножами, совершили нападение на школу №127 в Мотовилихинском районе Перми. Злоумышленники оказали учениками старших классов этой школы, один из которых был исключен за неуспеваемость. Оба они были задержаны, а в больницы доставлено 15 раненых, трое из них в тяжелом состоянии, включая учительницу. «Газета.Ru» следила за развитием событий в онлайн-трансляции.nnИтак, всем потерпевшим оказана медицинская помощь в стационарах, нападавшие сами также находятся в больнице и под контролем правоохранительных органов. На этом мы завершаем нашу трансляцию. Следите за дальнейшим развитием событий в Перми в материалах «Газеты.Ru».nnПо словам адвоката, нападавшие понесут уголовную ответственность. «Гражданско-правовую ответственность за причиненный вред понесут либо сами нападавшие, либо, в случае недостаточности у них имущества и заработка, их родители или организации для детей, оставшихся без попечения, и сирот, если родителей не имеется.nnСовершеннолетние пострадавшие, то есть, в данном случае учителя, имеют право на возмещение утраченного заработка за период нетрудоспособности, добавила адвокат. «В случае тяжелых повреждений, повлекших инвалидность и невозможность продолжать работу по профессии, — ежемесячные платежи, составляющие часть утраченного заработка, кроме того расходы на лечение, и компенсацию морального вреда. Несовершеннолетние до 14 лет, то есть как раз учащиеся 4 класса, могут рассчитывать на возмещение расходов на лечение и компенсацию морального вреда», — сказала Фаст.nnЕсли проверка покажет, что в школе действительно ненадлежащим образом была организована охрана (например, подтвердится информация о наработавших камерах видеонаблюдения), то директору образовательного учреждения может грозить ответственность вплоть до уголовной. Об этом «Газете.Ru» рассказала адвокат АК «Гражданские компенсации» Ирина Фаст. «Если будет установлено недостаточное обеспечение безопасности учащихся в школе, школа понесет солидарную ответственность с нападавшими, а директор — вплоть до уголовной, за преступную халатность, — заявила она. — Если теоретически представить, что в школе было все идеально — все требования по обеспечении безопасности соблюдены, и документы в порядке, ответственность не наступит. В случае, если охрану школы осуществляло охранное предприятие по договору, то соответчиком может выступить и оно».nnСо слов матери одного из учеников школы, которые приводит портал 59.ru, вырисовывается примерная картина произошедшего. Отчисленный из школы годом ранее ученик пришел «мстить» бывшей учительнице. Его с другом пустили через второй вход в здание, поскольку хорошо знали. По пути один из злоумышленников по всей видимости передумал, попытался остановить «мстителя», но тот начал отбиваться. В результате они все таки нашли свою жертву, а остальные пострадавшие дети получили ранения, пытаясь учительницу защитить. Ранение также получил и охранник школы, появившийся в кабинете, где шла драка, лишь значительное время спустя.nnСообщается также, что пострадавшие с ранениями средней степени тяжести находятся в краевой детской клинической больнице и тоже уже были прооперированы. У одного ученика порезы шеи, но сосуды задеты не были, у другого - ранение глаза.nnТем временем очевидцы описывают разные версии событий. Одни говорят, что между двумя нападавшими возник конфликт и они бросились друг на друга, а учительница попыталась их разнять. Другие утверждают, что старшеклассники между собой действовали слаженно, подкрались к учительнице сзади во время урока, а сразу после этого начали целенаправленно атаковать учеников 4 «Б» класса.nnИнцидент в пермской школе прокомментировали в Кремле. «Давайте сначала дадим, наверное, Росгвардии и Министерству внутренних дел разобраться с тем, на надлежащем ли уровне обеспечивалась безопасность в этом учебном заведении. Вместе с тем, учитывая, что это такая внутренняя, скажем так, поножовщина между учениками школы, давайте это внутреннее расследование проведут. Это же не нападение на школу извне… Давайте дождемся точки зрения экспертов и не будем сейчас делать какие-то такие любительские рассуждения на этот счет», — сказал пресс-секретарь президента РФ Дмитрий Песков.nnТри человека – учительница и двое учеников – прооперированы. «Самая тяжелая – женщина (педагог), операция закончилась, восполняется кровопотеря. Операции подростков также закончились, у одного ранение сонной артерии, у другого — яремной вены. Все зашито, они в отделении реанимации», — передает ТАСС. Именно учительница попыталась помешать нападавшим добраться до четвероклассников и друг до друга.nnТребования к охранным предприятиям, которые обеспечивают безопасность образовательных учреждений, будут ужесточены. Соответствующее поручение дал губернатор Пермского края Максим Решетников по итогам заседания оперативного штаба.nnЕще одна деталь в и так неутешительной ситуации с системой охраны в школе. По информации местной администрации, в образовательном учреждении могло не работать видеонаблюдение. Это в плюс к тому, что бывший ученик смог пройти по оставшемуся у него пропуску, охрана не заметила проникновения нападавших к здание, а «тревожная кнопка» была нажата не в школе, а в соседнем торговом центре.nnКадры с места происшествия. Школьников тем временем начали пускать обратно в здание, чтобы они хотя бы забрали свою верхнюю одежду из гардероба: дети в панике выбегали на улицу.nВ Перми двое школьников пришли в школу №127 с ножами и нанесли ножевые ранения 11 учащимся и пед.составу школы. Большинство из них дети из 4-ого класса.nСейчас нападавшие задержаны.n#Пермьn#Школа127n#Новостиn#Newsnpic.twitter.com/TaeZCa8d59nnОдин из нападавших, отчисленный подросток, имеет проблемы с наркотиками, сообщает портал 59.ru. Второй парень —действующий ученик. У отчисленного подростка был старый пропуск, так они и смогли попасть в школу.nnОфициальный представитель МВД России Ирина Волк заявила, что действиям должностных лиц, обязанных обеспечивать пропускной режим и порядок в школе, а также организовывать профилактическую работу с несовершеннолетними, будет дана правовая оценка.nnПсихолог Иван Преображенский в разговоре с «Газетой.Ru» отметил, что причины нападения на школу могут быть самыми разными: «Пока что я призываю не сводить все только к школе «Колумбайн» в США. Интерес к событию в школе «Колумбайн» может иметься, но ведущим мотивом при подготовке данного преступления может стать все же что-то иное. Например, борьба кланов детей внутри школы, конфликт между детьми богатых и бедных родителей, конфликт детей разных национальностей или конфессий, детей-фанатов разных спортивных команд, конфликт из-за девушки и даже конфликт в реальной жизни из-за инцидента в социальной сети. Бывает даже такое, что к конфликту в реальной жизни приводит конфликт в чате какой-либо компьютерной игры».nnДетский омбудсмен Анна Кузнецова назвала произошедшее в школе №127 «вопиющим случаем». Она также отметила, что у нее «очень много вопросов» к тому, «как вооруженные парни оказались в школе» и почему система охраны не сработала так, как должна была.nnСогласно одной из версий, причиной нападения мог стать оскорбительный, по мнению школьников, пост в соцсетях. В сообществе «Мемасы в массы» 31 декабря появилось сообщение «С новым 20!8 годом псы))) люблю вас» (орфография сохранена), что возмутило одного из нападавших учеников. Сообщается, что школьники решили совместно организовать атаку на школу, но в процессе между ними самим возникла размолвка, из-за которой они бросились друг на друга с оружием в руках.nnУченик школы №127 рассказал порталу 59.ru об одном из нападавших: «Он в прошлом году закончил девятый класс. Неоднократно оставался на второй год. Он должен быть в одиннадцатом, по идее. Плохо учился. Раньше он не был агрессивным, вел себя спокойно в школе. Чтобы хотел кого-то убить — нет. Не понимаю, из-за чего это все случилось. Семья у него благополучная, есть и отец, и мама. Но из дома он убегал. Не нравилось, что контролировали».nnПо предварительным данным, драка между школьниками произошла из-за личной неприязни. Об этом сообщил представитель регионального управления СК РФ. Он отметил, что в это время в классе шел урок. «По предварительной версии, драка с ножами между учениками произошла на почве личных неприязненных отношений. В это время шел урок, учительница и другие ученики получили ранения, потому что пытались разнять двух дерущихся школьников», — рассказал РИА Новости представитель Следственного комитета.nnРасследование причин и последствий произошедшего взято на личный контроль министра образования Ольги Васильевой. На место происшествия также вылетела уполномоченный при президенте РФ по правам ребенка Анна Кузнецова.nnНапомним, что за последние пять лет в российских школах произошло более десяти ЧП с нападением на учеников и педагогов. Самым громким делом стал инцидент в московском районе Отрадное, где в феврале 2014 года ученик 10 класса застрелил учителя географии и сотрудника полиции. По данным Минтруда на 2015 год, около 78% образовательных организаций по России не охраняются частными охранными организациями. Днем учеников «защищают» дежурные администраторы из преподавательского состава, а в ночью — пожилые сторожи, которые не обучались профессии и не проходили специальных проверок.nnГлава Перми Дмитрий Самойлов поручил усилить меры безопасности во всех школах Перми после инцидента с нападением на учеников и педагогов. К сожалению, усиление мер безопасности нередко происходит уже после трагических инцидентов. «Газета.Ru» ранее рассказывала о том, как работает система охраны школ и почему не работает «тревожная кнопка». Отметим, что часть раненых школьников добежала до ближайшего торгового центра и оттуда вызвалп охрану, нажав «тревожную кнопку».nnФоторепортаж с места событийnnКак уточняют в пресс-службе городской администрации, на данный момент пострадавших 15 человек, из них 12 человек госпитализировано. Женщина (учитель) и двое молодых людей 15-16 лет в тяжелом состоянии направлены в городскую клиническую больницу №4. На данный момент им уже проводятся операции. Еще 9 пострадавших детей уже осмотрены врачами, обнаружены поверхностные травмы, они направлены в Детскую краевую клиническую больницу.nnСтало известно имя пострадавшей учительницы – это классный руководитель 4 «Б» класса Наталья Шагулина.nnОдин из подозреваемых в нападении на учеников школы в Перми ранее состоял на учете в психоневрологическом диспансере. Об этом сообщили в региональном ГУ МВД. Пострадал ли он, не уточняется.nnОтметим, что нападение в американской школе «Колумбайн» нашло достаточно последователей в России. Так, в сентябре минувшего года в подмосковной Ивантеевке во время урока информатики девятиклассник напал на учительницу с тесаком, ударил ее по голове, стал взрывать в классе самодельные петарды и стрелять из пневматического оружия в потолок. Испугавшиеся школьники начали выпрыгивать из окон класса, находящегося на втором этаже школы: трое из них упали на асфальт и в результате получили переломы и ушибы. Нападавший ученик после атаки собирался покончить с собой. В годовщину кровавых событий в школе «Колумбайн» он писал в соцсетях, что, лучше бы он был на месте устроивших бойню Эрика и Дилана.nnТем временем СМИ изучили соцсети ученика, который, предположительно, стал организатором нападения в пермской школе. Как сообщает «Лайф», судя по его странице в «ВКонтакте», он увлекался видео о массовом убийстве в школе «Колумбайн» в США. Школьник также состоял в группах, посвященных этой трагедии.nnА вот СК сообщает, что пострадавших всего 13, включая двух лиц, между которыми произошла поножовщина. Об этом ТАСС сказал замруководителя СУ СК РФ по региону Сергей Сарапульцев.nnУточняется число пострадавших в пермской школе: по информации МВД, ранения получили 11 подростков и один учитель.nnНападавшие вошли в школу не через главный вход, где дежурит охранник, а через другой вход, дверь им кто-то открыл изнутри. Об этом порталу 59.ru сообщили в Министерстве территориальной безопасности.nnВ школе № 127 учебный процесс приостановлен, в других школах города обучение продолжается в штатном режиме, сообщили в пресс-службе администрации Перми.nnПри этом учились ли нападавшие в той же школе, остается вопросом. Как сообщили очевидцы порталу 59.ru, атаковавшие дети не имеют отношения к этому учебному заведению. Охранником была молодая девушка, она никого не могла остановить, добавляют свидетели произошедшего.nnКак сообщили в Следственном управлении ведомства, возбуждено уголовное дело по признакам преступления, предусмотренного ч. 3 ст. 30, п. «а» ч. 2 ст. 105 УК РФ (покушение на убийство двух и более лиц). По данным следователей, «утром 15 января 2018 года в одной из школ Мотовилихинского района города Перми между двумя школьниками произошла драка с применением холодного оружия (ножей), которую пытались предотвратить находящиеся там же педагоги и школьники. В результате учащимся и педагогу причинены ножевые ранения».nnПодозреваемые в нападении задержаны, в ближайшее время их планируется допросить, сообщили в СК РФ по Пермскому краю.nnВсего пострадали восемь учеников и одна учительница. Она и 16-летний школьник получили ранения шеи, сообщили в местном Минздраве. У остальных «незначительные поверхностные травмы».nnНа месте происшествия находится глава Перми Дмитрий Самойлов и губернатор края Максим Решетников.nnОстальные ученики школы и преподаватели сейчас эвакуированы в соседний торгово-развлекательный центр «Кит».nnВ Перми двое неизвестных в масках напали на школу номер 127. Об этом сообщила директор общеобразовательного учреждения. По предварительным данным злоумышленники были вооружены ножами. Сейчас известно о 9 пострадавших, двое из них в тяжелом состоянии доставлены в больницу. «Газета.Ru» следит за развитием событий.\n",
            "\n",
            "Двое 16-летних подростков в понедельник, 15 января, напали с ножами на учеников и учительницу пермской школы. Итог — 15 пострадавших, подозреваемые задержаны. Оба они активно интересовались событиями в американской школе «Колумбайн», где в 1999 году произошло массовое убийство учащихся. Проявлял к этому интерес и печально известный «ивантеевский стрелок». «Газета.Ru» спросила у экспертов, почему явление, которое ранее ассоциировалось только с США, пришло в Россию.nОчередное чрезвычайное происшествие с участием учащихся произошло в российской школе. Два 16-летних парня — один действующий, а второй бывший ученик этой школы — с ножами напали на образовательное учреждение №127 в Мотовилихинском районе Перми, нанеся ранения учительнице и школьникам. По одной из версий, в ходе атаки между нападавшими возник конфликт, они бросились друг на друга, а педагог пыталась их разнять. Вторая версия гласит, что целью подростков были именно ученики четвертого класса, а учительница пострадала, защищая детей. Друг друга же подростки якобы ранили, пытаясь убить по заранее оговоренному сценарию. Согласно третьей версии, бывший ученик пришел «мстить» именно бывшей учительнице, а четвероклассники пострадали случайно.nВсего в результате атаки пострадали не менее 15 человек, 12 из них были госпитализированы. Три человека, включая учительницу, получили серьезные ранения и были прооперированы.nСудя по страницам в соцсети «ВКонтакте» обоих нападавших, они живо интересовались массовым убийством в школе «Колумбайн» в США: на страницах размещено множество видеороликов и изображений на эту тему, один из нападавших также состоял в группах, посвященных этой трагедии. В апреле 1999-го года в штате Колорадо с помощью стрелкового оружия и самодельных взрывных устройств двое учеников — Эрик Харрис и Дилан Клиболд — ранили 37 человек, 13 из которых позже погибли. Нападавшие покончили жизнь самоубийством. Один из нападавших на пермскую школу в день инцидента, по словам очевидцев, также неоднократно заявлял, что он «пришел сюда, чтобы сдохнуть». Кроме того, по данным МВД, один из нападавших состоял на учете в психоневрологическом диспансере. По словам одного из учеников школы №127, парень отличался агрессивным поведением. Ученик говорит, что подросток несколько раз уходил из дома, принимал наркотики и якобы пытался покончить с собой. Проблемы с родителями, по словам знакомого, у нападавшего возникали на почве увлечения компьютерными играми на грани зависимости.nОтметим, что это не первая попытка воспроизвести «Колумбайн» на российских просторах. В сентябре 2017 года школьник напал с пневматическим оружием и кухонным топориком на учительницу и учащихся школы в подмосковной Ивантеевке. Педагог получила черепно-мозговую травму. Перепугавшиеся дети начали выпрыгивать из окон, в результате трое из них получили различные травмы. Как выяснилось, подросток на своей странице в соцсети «ВКонтакте» вспоминал события в школе «Колумбайн» в годовщину трагедии. Кроме того, он готовился к атаке в Ивантеевке заранее и обсуждал ее с друзьями.nВ феврале 2014 года в московском районе Отрадное ученик 10 класса пришел в школу с отцовской малокалиберной винтовкой, которую он выкрал из домашнего сейфа, и зашел в класс биологии.nТам он на глазах у своих одноклассников расстрелял 30-летнего учителя географии и биологии Андрея Кириллова и захватил заложников. Позже в школу по вызову прибыли двое полицейских. Один из них, 38-летний Сергей Бушуев, приоткрыл дверь кабинета, и подросток выстрелил в него. Пуля прошла через левую руку в тело, от чего Бушуев скончался на месте. Второй полицейский, 29-летний Владимир Крохин, пытался спасти коллегу из-под огня, но был ранен в левую часть грудной клетки. В тяжелом состоянии Крохина доставили в НИИ имени Склифосовского, где он был прооперирован. Уговорить подростка сдаться и отпустить заложников смог только его отец. По данным Следственного комитета, школьник успел выстрелить из винтовки не менее 11 раз, прежде чем его схватили полицейские. Суд приговорил стрелка к принудительному лечению.nЭксперты призывают воздержаться от однозначных выводов и дождаться завершения расследования, которое бы выявило истинные мотивы инцидента в пермской школе. Однако общие тенденции они отмечают уже сейчас. В частности, у многих нападавших на школы за последние несколько лет, как выяснялось, были проблемы в семье. И если родители само по себе не могут уделять достаточно внимания эмоциональному состоянию ребенка, то этот процесс должна брать на контроль школа, в том числе и обучая мам с папами тому, как слушать и общаться с несовершеннолетним, пояснила «Газете.Ru» руководитель отдела клинической психиатрии детского и подросткового возраста Центра психиатрии и наркологии имени Сербского, главный внештатный детский специалист-психиатр Москвы Анна Портнова.n«Система образования как очень большой институт, хорошо развитый, должен иметь в своем штате и психологическую службу. Но психологи есть далеко не в каждой школе. А там, где они есть, в основном занимаются сопровождением учебного процесса: они контролируют, как дети усваивают навыки, знания и умения. Они не занимаются эмоциональным состоянием детей, не имеют подготовки по основам клинической психологии и психиатрии.nПоэтому с критическими состояниями большинство школьных психологов справляться не умеет»,n— отмечает Портнова.nРуководитель Московского отделения Федерации психологов образования России, доцент Московского государственного психолого-педагогического университета Ирина Умняшова подчеркивает, что работа школьного психолога в наши дни плохо отрегулирована законодательством, что сказывается на ее качестве. «Есть профессиональный стандарт психолога — в него также входит такая трудовая функция, как эмоциональное сопровождение детей. Однако это невозможно сделать без согласия родителей. Психолог — не первый герой этой истории. Есть и классные руководители, и родители, которые, понимая, что есть признаки отклоняющегося поведения, могли принять участие в профилактике».nПсихолог считает, что стремление подростков воплотить в жизнь такие жестокие сюжеты, как с «Колумбайном», говорит о том, что подростки хотят выделиться и произвести впечатление на окружающих. «В подростковом возрасте детям свойственно подражание, а также использование негативных примеров для того, чтобы обратить на себя внимание», — сказала Умняшова «Газете.Ru». Портнова добавляет, что «сам подростковый возраст подразумевает определенную долю максимализма, поиска ярких ощущений, себя в этом мире, а также признания. Однако добиться признания хорошими поступками сложнее, нежели плохими. Учиться на «отлично» сложнее, чем хулиганить, драться, угрожать ножом или попасть в яркую субкультуру и покрасить волосы».nПсихолог Павел Волженков отвергает версию, что российские подростки переняли некую «моду» на школьные атаки. «Я считаю, что дети ощущают бессмысленность своего пребывания в школе. Смотрят на то, как много работающих нищих людей вокруг, слышат разговоры взрослых на эти темы, видят передачи в СМИ, хотят вырваться из нищеты. Они хотят много зарабатывать, чтобы быть обеспеченными. То, что им дают в школе, не связано с зарабатыванием денег. Они не получают ответы на свои вопросы о способах заработка, о профессиях, о бизнесе, и их, тем не менее, заставляют ходить в школу. Из-за этого дети протестуют.nПодросток может найти выход для этих протестных чувств в потреблении алкоголя, наркотиков, в беспорядочных сексуальных связях, в общеопасном поведении, а может — в такой форме протеста, как ущерб учителям и другим детям. Это один из вариантов протеста, это не самоцель.nПри этом дети знают о школе «Колумбайн» из соцсетей и интернета, но все не сводится лишь только к этому», — сказал Волженков «Газете.Ru».nОн считает, что школьную программу нужно сделать более приближенной к современной жизни, к потребностям учеников, к интересам, к тому как зарабатывать деньги. «Допустим, в школе есть алгебра. Это замечательный и очень нужный предмет. Можно изо дня в день объяснять ученикам ее на примерах того, что лодка плывет с такой-то скоростью, что столько-то воды затекло в бассейн, а сколько вытекло. Но они не понимают, зачем это нужно. А можно говорить — вот мост, чтобы его построить, необходимо применить такую-то алгебраическую формулу. Проектирует мост инженер-проектировщик. Он зарабатывает столько-то денег. А теперь, посмотрим сайт с зарплатами, вакансиями. А теперь посмотрим ролик на Ютьюб, в котором инженер-конструктор рассказывает, как он решает одну из задач из своей практики. Это будет связано с практической жизнью. Кроме того, школьное образование забюрократизировано, учителя пишут очень много отчетов, не успевают за реалиями современности, за тем, что востребовано сейчас», — отметил психолог.\n",
            "\n",
            "На территории Московского государственного музея-заповедника в Коломенском стартовал чемпионат мира по скульптуре из песка, в котором принимают участие известные мастера со всего света. Как сообщает агентствоnРИА «Новости»n, тема конкурса в 2013 году - «Тайны народов мира».nВ соревновании принимают участие скульпторы из России, Украины, Белоруссии, Италии, Чехии, Польши, Индии и другие. Участники конкурса будут создавать шедевры из песка от 3 до 5 метров в длину.nДля маленьких посетителей праздника на площадке проекта создана большая песочница, где будут проводиться конкурсы по скульптуре из песка для детей.\n",
            "\n",
            "Танцевальная группа из Томска ЮДИ не смогла победить в финале телешоу «Британия ищет таланты» (Britain's Got Talent), хотя, судя по всему, и произвела впечатление как на судей, так и на зрителей телепрограммы. «Газета.Ru» вела онлайн-трансляцию.nnА вот и представление, которое устроили ЮДИ в финале Britain's Got Talent. Спокойной ночи! Особенно тем, кто следил за выступлением парней в Томске, где уже утро. И с наступившим Днем защиты детей!nnНу а победило на Britain's Got Talent дог-шоу — Джулс О'Дуайер и ее собака по имени Матисс. Волшебник, которому Саймон Кауэлл напророчил большое будущее в Лас-Вегасе, пошутил, что стал в этом сезоне самым талантливым человеком на шоу — уж коли так вышло, что победила собака. Поздравляем всех любителей животных, ну а наша онлайн-трансляция подошла к концу. Спасибо томским танцорам из группы ЮДИ за 10-е место!nСпасибо томским парням из ЮДИ!n#BGTfinalnhttp://t.co/IMF95N1ubxnpic.twitter.com/pm1by8drs8nnУ ЮДИ хоть и почетное, но увы лишь 10-е место! Уступили даже старикам-разбойникам из Old Men Grooving. Но ничего страшного. На американском телевидении только началось телешоу America's Got Talent. Так что, вполне возможно, томских танцоров ждет успех по ту сторону Атлантики.nnТак. Теперь на шоу тянут время. Только что на сцене были танцы вне расписания, теперь идут воспоминания, как они пришли к этому финалу. До конца эфира программы полчаса. А вот и Андреа Бочелли.nВ ожидании итогов голосования, ITV показывает Андреа Бочеллиnhttp://t.co/IMF95N1ubxn#BGTfinalnpic.twitter.com/Sh1A0w4NJQnnА теперь британцы могут начать отдавать свои голоса за того, кто, по их мнению, должен стать победителем этого сезона!nГолосование началось!!! Голосуйте за ЮДИ, если вы в Британииnhttp://t.co/IMF95N1ubxnpic.twitter.com/eTRtqg3KLMnnМы все в нетерпении, а нам предлагают дог-шоу в качестве последнего участника финала. Очень мило. И все судьи встали в конце представления.nПоследний номерn#BGTfinaln. И совсем скоро, наверное, узнаем, победили ли ЮДИnhttp://t.co/IMF95N1ubxnpic.twitter.com/fWLC9puBqUnnА теперь выступает волшебник Джейми Равен, который опередил ЮДИ в полуфинале. Карты в руках... Следите за его руками... Дарит судьям подарки и продолжает с ними общаться... Это и есть его номер?! Довольно фамильярно. В коробке оказывается лимон с купюрой внутри, на которой изображены судьи... Более того, на купюре написано имя Алеши Диксон — одной из четырех судей шоу. Далее 15-летний молодой человек Айзек Уэддингтон. Судьи в восторге, но слишком лирическую песню он исполнил. Как-то усыпляюще.nА теперь выступает волшебник, опередивший ЮДИ в одном из полуфиналовnhttp://t.co/IMF95N1ubxnpic.twitter.com/jVb3dqEVYRnnЕЩЕ ЧЕТЫРЕ НОМЕРА ОСТАЛОСЬ! Прямо сейчас старики-разбойники из Old Men Grooving. Забавно, но ничего выдающегося. Хорошо (для пожилых людей) двигаются под попурри из известных танцевальных композиций. Слишком пестро и эклектично.nЕще четыре номера остались (прямо сейчас Old Men Grooving),и мы узнаем, победили ли сибирские парни из ЮДИ в Британииnpic.twitter.com/VvEhBCmj9NnnХор из Уэльса. Мило, но не более того. Судьи рассыпаются в комплиментах, а Саймон Кауэлл даже говорит, что, скорее всего, он смотрит на победителей этого финала. Однако в его глазах сквозит мысль о том, что заработать на этом хоре, как, например, на Леоне Льюис или One Direction из X Factor, не удастся.nHALLELUJAH!! RT if you'ren#TeamCorGlanaethwyn!!n#BGTfinalnpic.twitter.com/OvSXSv77uDnnЕще один певческий номер — Каллэм Скотт. Мило, НО в Британии, и конкретно на телеканале ITV, для этих целей есть X Factor. А для Britain's Got Talent все же как-то скудновато. Если, конечно, вы не Сюзан Бойл.nnДевятилетняя Джесси-Джейн Макпарланд. Не кажется, что она победит. Следующим номером идет стендап-комедия. Ох уж этот тонкий английский юмор.nМилая девочка в образе летающего(-ей) ниндзя, и судьи ее хвалят. Попала в финал по wild cardnhttp://t.co/IMF95N1ubxnpic.twitter.com/XMd0CZTA97nnА вот Boyband. Атлетика, танец и яркие визуальные решения, способные составить конкуренцию ЮДИ. Все в восторге, но Саймону не понравилось! Якобы танцоры Boyband потеряли индивидуальность по сравнению с предыдущими выступлениями. Хм...nА вот Boyband. Атлетика, танец и яркие визуальные решения, способные составить конкуренцию ЮДИnhttp://t.co/IMF95N1ubxnpic.twitter.com/w7h1ZisUl7nnТеперь отец и дети The Neales. И хотя судьи признавались, что этот певческий номер выжал из них слезу, почему-то со стороны кажется, что победителями The Neales не будут.nПевческий коллектив The Neales почему-то кажется не будет реальным соперником ЮДИnhttp://t.co/IMF95N1ubxnpic.twitter.com/EEHU8SBxRwnnПервый судья говорит, что ЮДИ опять удивили. Вторая замечает, что они имеют шанс победить. Третья отметила, что ей нравится то, что ЮДИ делают много полезных вещей для детей у себя на родине в Томске. Саймон Кауэлл говорит, что финальное представление лучше, чем предыдущее — в полуфинале.nКак оценит выступление ЮДИ Саймон Кауэлл?!n#BGTfinalnhttp://t.co/IMF95N1ubxnpic.twitter.com/Buf1nNeLFgnnА вот и ЮДИ! Под вторым номером! Пока очень похоже на то, что мы уже видели в предыдущих стадиях телешоу. Чем же они удивят?! ЮДИ обещали, что в финале выступят с номером о добре и зле.nЮДИ закончили выступление!!!nhttp://t.co/IMF95N1ubxnpic.twitter.com/W9KcCOhimknnПервыми выступили дети (и подростки) из группы Entity Allstars. Они изобразили танцующих гладиаторов. Судьи в восторге. И даже Саймон Кауэлл не стал вредничать и предположил, что они могут победить.nНачали наn#BGTfinalnc танцующих гладиаторов, а теперь будут ЮДИ -- под вторым номеромnhttp://t.co/IMF95N1ubxnpic.twitter.com/DFg7Dq84WHnnНачалось. Вышли двое ведущих шоу и четверо судей, в том числе Саймон Кауэлл — мастермайнд в центре огромного количества телешоу в различных странах мира.nНачалось. БОЛЕЕМ ЗА ЮДИ!!!nhttp://t.co/IMF95N1ubxnpic.twitter.com/DtIF1vEnoinnЕще один видеоролик — для тех, кто раздумывает: а не бросить ли свою размеренную жизнь и не присоединиться ли к парням из ЮДИ.nnА пока вспомним, кто эти танцующие парни и откуда они.nЧерез 15 минут начнется финал телешоу Britain's Got Talent, куда пробились томские парни из танцевальной группы ЮДИnnНачало финала телешоу «Британия ищет таланты» (Britain's Got Talent) в 21.30 мск. В Томске это будет уже глубокая ночь. Определится же победитель за несколько минут до полуночи по московскому времени.\n",
            "\n",
            "==========\n",
            "Generate 2\n",
            "==========\n",
            "Сергей Семенов, приговоренный к лишению свободы за изнасилование несовершеннолетней жительницы Ульяновска Дианы Шурыгиной, досрочно вышел на свободу 10 января. Шурыгина стала одной из самых обсуждаемых личностей, переехала в Москву, снялась в реалити-шоу и в октябре 2017 года вышла замуж за оператора Первого канала. Сам Семенов после освобождения намерен продолжить обучение и найти работу.nУтром 10 января житель Ульяновска Сергей Семенов, которого в декабре 2016 года приговорили к тюремному заключению за изнасилование несовершеннолетней Дианы Шурыгиной, вышел на свободу. Об этом сообщили в пресс-службе УФСИН России по Ульяновской области. Там добавили, что молодой человек был освобожден условно-досрочно. Информацию об освобождении на своей странице «ВКонтакте» подтвердила сестра юноши Екатерина Семенова.nСведения о том, что заключенный может досрочно выйти на свободу, появилась накануне. Модератор сообщества о Сергее Семенове во «ВКонтакте» Ильи Анищенко 9 января сообщил, что осужденный должен был выйти по 80-й статье УК (замена неотбытой части наказания более мягким видом наказания), а не по УДО. Однако позже сестра Семенова в соцсетях заявила о том, что администрация колонии, где ее брат отбывал наказание, поддержала ходатайство об условно-досрочном освобождении.nПо мнению председателя коллегии адвокатов «Старинский, Корчаго и партнеры» Евгения Корчаго,nдосрочному освобождению Семенова могло способствовать то, что сама история вызвала широкий резонанс. «Многие были недовольны приговором из-за претензий к противоречивой доказательственной базе по этому делу», — сообщил юрист.nПосле освобождения Семенов заявил, что его цель — восстановиться на учебе, возможно, поступить в новый вуз, найти работу. Адвокат Корчаго говорит, что обязать сделать то же самое его может и суд. «Список таких обязанностей конкретно не ограничен. В ч. 5 ст. 73 УК РФ перечислены такие обязанности, как запрет на смену постоянного места жительства, работы, учебы без уведомления специализированного государственного органа, а также не посещение определенных места. Человека также могут обязать пройти курс лечения, трудиться либо продолжить обучение. Однако это могут быть и другие обязанности, которые, по мнению суда, будут способствовать исправлению осужденного», — отметил адвокат.nОб истории несовершеннолетней Дианы Шурыгиной из Ульяновска страна узнала в январе 2017 года, когда вышел первый выпуск ток-шоу «Пусть говорят» на Первом канале. Там девушка рассказала, что стала жертвой изнасилования. Программа вызвала широкий резонанс, и пользователи в сети разделились на два лагеря: тех, кто поддерживал Шурыгину, и тех, кто выступал за освобождение Семенова. Высокие рейтинги привели к тому, что на Первом канале вышло еще четыре выпуска передачи, посвященных скандальному происшествию.nСамо же происшествие случилось 1 апреля 2016 года, когда Сергей и несовершеннолетняя Диана отмечали день рождения общего друга в загородном коттедже в Ульяновске: там они познакомились и занялись сексом.nМолодой человек заявил, что секс с девушкой у него был по обоюдному согласию, а Шурыгина по окончании праздника обвинила Семенова в изнасиловании.nПри этом друзья и родственники Семенова заявляли, что Шурыгина ведет разгульный образ жизни, пропускает учебные занятия. «Семья живет в общежитии, имеет малый достаток. Мать родила Диану в 15 лет. Отца почему-то не посадили», — заявляли они.nРодители девушки подали заявление в полицию. Следствие продлилось больше восьми месяцев. 5 декабря 2016 года Ленинский районный суд Ульяновска признал Сергея Семенова виновным в изнасиловании (статья 131 УК РФ) и насильственных действиях сексуального характера (статья 132 УК РФ). Молодому человеку, которому на тот момент был 21 год, назначили восемь лет и три месяца колонии строгого режима. Спустя полтора месяца, 25 января 2017 года, суд изменил срок на три года и три месяца, заменив строгий режим на общий.nВ интервью Yotube-каналу телеведущего Андрея Малахова, данном летом 2017 года, Семенов рассказал, что стал умнее, осторожнее и начал ценить близких. «Не жалею, что вся эта история случилась. Того, чего я понял, я бы не понял за всю жизнь», — заявил он. Молодой человек добавил, что у него нет «никакой злости, ненависти» к Шурыгиной.nЗа то время, пока Семенов отбывал наказание за преступление, Диана Шурыгина успела переехать с семьей в Москву, сняться в реалити-шоу Малахова и других проектах Первого канала. В реалити-шоу девушка посещает светские мероприятия, одевается в модных бутиках, отмечает свое совершеннолетие и даже попадает в психдиспансер. 5 октября она вышла замуж за 29-летнего оператора Первого канала Андрея Шлягина. Познакомились они на съемках ток-шоу о Диане, до того, как молодой человек сделал ей предложение, пара встречалась три месяца. На данный момент Диана Шурыгина проживает со своим мужем в Москве.\n",
            "\n",
            "Президент «Роснефти» Игорь Сечин передал главе Венесуэлы Уго Чавесу в подарок от президента России Владимира Путина щенка черного русского терьера (эту породу также принято называть «собакой Сталина». — «Газета.Ru»).n«Я передал послание от президента России Владимира Владимировича Путина — это черный русский терьер, ему три месяца», — цитирует СечинаnРИА «Новости»n.nПо словам Сечина, Чавесу очень понравился щенок, но как его назвать, он пока не решил.n«Он ему очень понравился, про имя обещал сказать завтра», — добавил президент «Роснефти».\n",
            "\n",
            "Актер Леонид Броневой, который после инфаркта проходит курс реабилитации в Киевском городском центре сердца, начал ходить, его перевели из реанимации в обычную палату.n«Леонид Броневой уже разговаривает, ест, может сидеть и даже потихоньку ходить. Но говорить о выписке пока слишком рано, нужно время для восстановления», - сказал директор центра Борис Тодуров в интервью газете «Комсомольская правда в Украине», отрывки которого публикуются на сайте издания.nВ пятницу Броневого перевели из реанимации в палату для выздоравливающих пациентов, а значит, его жизнь вне опасности.nnБроневой приехал в Киев 7 сентября с гастролями вместе с другими артистами московского театра «Ленком» во главе с художественным руководителем Марком Захаровым. Спектакли проходили в украинской столице с 8 по 17 сентября. Восемнадцатого сентября актер был госпитализирован с инфарктом в Киевский городской центр сердца, где ему сделали операцию. Актер был подключен к аппарату искусственной вентиляции легких, не мог разговаривать. В минувшую субботу его отключили от аппарата искусственного дыхания.nЛеонид Броневой сыграл в десятках спектаклей и фильмов. Наиболее известные кинороли - Мюллер в сериале «Семнадцать мгновений весны», Мануйлов в «Агонии», герцог в притче «Тот самый Мюнхгаузен», Велюров в «Покровских воротах».\n",
            "\n",
            "Спектакль Московского театра Олега Табакова «На всякого мудреца довольно простоты», показанный накануне при полном аншлаге в рамках Тбилисского международного театрального фестиваля на сцене Театра имени Руставели, завершился под бурные аплодисменты зрителей, сообщают местные телеканалы.nМежду тем некоторые сторонники нынешних властей Грузии очень негативно отнеслись к спектаклю и особенно к Безрукову, выкрикнувшему в зал по-грузински одну из ключевых фраз спектакля: «Подчиненный должен быть робок и постоянно трепетен!» За этой фразой актер начал пожевывать галстук-бабочку. Именно в этом действии респонденты некоторых грузинских телеканалов усмотрели намек на президента Грузии Михаила Саакашвили, которого телеканалы в дни августовской войны 2008 года запечатлели пожевывающим свой галстук при важном телефонном разговоре.nnСторонники Саакашвили, показанные на грузинских телеканалах, заявили, что спектакль им не понравился, так как в нем они увидели сравнение с Российской империей и подвластной ей Грузией, а реакцию зала назвали «унизительной и провинциальной».nПодавляющее же большинство зрителей в театре, приобретшие весьма дорогие для Грузии билеты на спектакль (цена доходила до $80), долго аплодировали российским актерам стоя.\n",
            "\n",
            "Танцевальная группа из Томска ЮДИ не смогла победить в финале телешоу «Британия ищет таланты» (Britain's Got Talent), хотя, судя по всему, и произвела впечатление как на судей, так и на зрителей телепрограммы. «Газета.Ru» вела онлайн-трансляцию.nnА вот и представление, которое устроили ЮДИ в финале Britain's Got Talent. Спокойной ночи! Особенно тем, кто следил за выступлением парней в Томске, где уже утро. И с наступившим Днем защиты детей!nnНу а победило на Britain's Got Talent дог-шоу — Джулс О'Дуайер и ее собака по имени Матисс. Волшебник, которому Саймон Кауэлл напророчил большое будущее в Лас-Вегасе, пошутил, что стал в этом сезоне самым талантливым человеком на шоу — уж коли так вышло, что победила собака. Поздравляем всех любителей животных, ну а наша онлайн-трансляция подошла к концу. Спасибо томским танцорам из группы ЮДИ за 10-е место!nСпасибо томским парням из ЮДИ!n#BGTfinalnhttp://t.co/IMF95N1ubxnpic.twitter.com/pm1by8drs8nnУ ЮДИ хоть и почетное, но увы лишь 10-е место! Уступили даже старикам-разбойникам из Old Men Grooving. Но ничего страшного. На американском телевидении только началось телешоу America's Got Talent. Так что, вполне возможно, томских танцоров ждет успех по ту сторону Атлантики.nnТак. Теперь на шоу тянут время. Только что на сцене были танцы вне расписания, теперь идут воспоминания, как они пришли к этому финалу. До конца эфира программы полчаса. А вот и Андреа Бочелли.nВ ожидании итогов голосования, ITV показывает Андреа Бочеллиnhttp://t.co/IMF95N1ubxn#BGTfinalnpic.twitter.com/Sh1A0w4NJQnnА теперь британцы могут начать отдавать свои голоса за того, кто, по их мнению, должен стать победителем этого сезона!nГолосование началось!!! Голосуйте за ЮДИ, если вы в Британииnhttp://t.co/IMF95N1ubxnpic.twitter.com/eTRtqg3KLMnnМы все в нетерпении, а нам предлагают дог-шоу в качестве последнего участника финала. Очень мило. И все судьи встали в конце представления.nПоследний номерn#BGTfinaln. И совсем скоро, наверное, узнаем, победили ли ЮДИnhttp://t.co/IMF95N1ubxnpic.twitter.com/fWLC9puBqUnnА теперь выступает волшебник Джейми Равен, который опередил ЮДИ в полуфинале. Карты в руках... Следите за его руками... Дарит судьям подарки и продолжает с ними общаться... Это и есть его номер?! Довольно фамильярно. В коробке оказывается лимон с купюрой внутри, на которой изображены судьи... Более того, на купюре написано имя Алеши Диксон — одной из четырех судей шоу. Далее 15-летний молодой человек Айзек Уэддингтон. Судьи в восторге, но слишком лирическую песню он исполнил. Как-то усыпляюще.nА теперь выступает волшебник, опередивший ЮДИ в одном из полуфиналовnhttp://t.co/IMF95N1ubxnpic.twitter.com/jVb3dqEVYRnnЕЩЕ ЧЕТЫРЕ НОМЕРА ОСТАЛОСЬ! Прямо сейчас старики-разбойники из Old Men Grooving. Забавно, но ничего выдающегося. Хорошо (для пожилых людей) двигаются под попурри из известных танцевальных композиций. Слишком пестро и эклектично.nЕще четыре номера остались (прямо сейчас Old Men Grooving),и мы узнаем, победили ли сибирские парни из ЮДИ в Британииnpic.twitter.com/VvEhBCmj9NnnХор из Уэльса. Мило, но не более того. Судьи рассыпаются в комплиментах, а Саймон Кауэлл даже говорит, что, скорее всего, он смотрит на победителей этого финала. Однако в его глазах сквозит мысль о том, что заработать на этом хоре, как, например, на Леоне Льюис или One Direction из X Factor, не удастся.nHALLELUJAH!! RT if you'ren#TeamCorGlanaethwyn!!n#BGTfinalnpic.twitter.com/OvSXSv77uDnnЕще один певческий номер — Каллэм Скотт. Мило, НО в Британии, и конкретно на телеканале ITV, для этих целей есть X Factor. А для Britain's Got Talent все же как-то скудновато. Если, конечно, вы не Сюзан Бойл.nnДевятилетняя Джесси-Джейн Макпарланд. Не кажется, что она победит. Следующим номером идет стендап-комедия. Ох уж этот тонкий английский юмор.nМилая девочка в образе летающего(-ей) ниндзя, и судьи ее хвалят. Попала в финал по wild cardnhttp://t.co/IMF95N1ubxnpic.twitter.com/XMd0CZTA97nnА вот Boyband. Атлетика, танец и яркие визуальные решения, способные составить конкуренцию ЮДИ. Все в восторге, но Саймону не понравилось! Якобы танцоры Boyband потеряли индивидуальность по сравнению с предыдущими выступлениями. Хм...nА вот Boyband. Атлетика, танец и яркие визуальные решения, способные составить конкуренцию ЮДИnhttp://t.co/IMF95N1ubxnpic.twitter.com/w7h1ZisUl7nnТеперь отец и дети The Neales. И хотя судьи признавались, что этот певческий номер выжал из них слезу, почему-то со стороны кажется, что победителями The Neales не будут.nПевческий коллектив The Neales почему-то кажется не будет реальным соперником ЮДИnhttp://t.co/IMF95N1ubxnpic.twitter.com/EEHU8SBxRwnnПервый судья говорит, что ЮДИ опять удивили. Вторая замечает, что они имеют шанс победить. Третья отметила, что ей нравится то, что ЮДИ делают много полезных вещей для детей у себя на родине в Томске. Саймон Кауэлл говорит, что финальное представление лучше, чем предыдущее — в полуфинале.nКак оценит выступление ЮДИ Саймон Кауэлл?!n#BGTfinalnhttp://t.co/IMF95N1ubxnpic.twitter.com/Buf1nNeLFgnnА вот и ЮДИ! Под вторым номером! Пока очень похоже на то, что мы уже видели в предыдущих стадиях телешоу. Чем же они удивят?! ЮДИ обещали, что в финале выступят с номером о добре и зле.nЮДИ закончили выступление!!!nhttp://t.co/IMF95N1ubxnpic.twitter.com/W9KcCOhimknnПервыми выступили дети (и подростки) из группы Entity Allstars. Они изобразили танцующих гладиаторов. Судьи в восторге. И даже Саймон Кауэлл не стал вредничать и предположил, что они могут победить.nНачали наn#BGTfinalnc танцующих гладиаторов, а теперь будут ЮДИ -- под вторым номеромnhttp://t.co/IMF95N1ubxnpic.twitter.com/DFg7Dq84WHnnНачалось. Вышли двое ведущих шоу и четверо судей, в том числе Саймон Кауэлл — мастермайнд в центре огромного количества телешоу в различных странах мира.nНачалось. БОЛЕЕМ ЗА ЮДИ!!!nhttp://t.co/IMF95N1ubxnpic.twitter.com/DtIF1vEnoinnЕще один видеоролик — для тех, кто раздумывает: а не бросить ли свою размеренную жизнь и не присоединиться ли к парням из ЮДИ.nnА пока вспомним, кто эти танцующие парни и откуда они.nЧерез 15 минут начнется финал телешоу Britain's Got Talent, куда пробились томские парни из танцевальной группы ЮДИnnНачало финала телешоу «Британия ищет таланты» (Britain's Got Talent) в 21.30 мск. В Томске это будет уже глубокая ночь. Определится же победитель за несколько минут до полуночи по московскому времени.\n",
            "\n"
          ]
        }
      ]
    },
    {
      "cell_type": "markdown",
      "source": [
        "## Вывод\n",
        "\n",
        "По **первому пункту** можно сказать что перевод довольно таки занимательный, но не без своих недостатков. По **второму пункту** более менее похожи тексты, но если выборку делать небольшую, при более большой выборке стоит задуматься об улучшении."
      ],
      "metadata": {
        "id": "oRnHALEzA72n"
      }
    }
  ]
}